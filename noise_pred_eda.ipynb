{
 "cells": [
  {
   "attachments": {},
   "cell_type": "markdown",
   "metadata": {},
   "source": [
    "# EDA and Feature Engineering - Noise Events Prediction Model\n",
    "\n",
    "This notebook will be used to explore the available data, where possible features for the predictive model will be evaluated."
   ]
  },
  {
   "cell_type": "code",
   "execution_count": 1,
   "metadata": {},
   "outputs": [],
   "source": [
    "import polars as pl\n",
    "import numpy as np"
   ]
  },
  {
   "attachments": {},
   "cell_type": "markdown",
   "metadata": {},
   "source": [
    "## Meteo Data Exploration"
   ]
  },
  {
   "cell_type": "code",
   "execution_count": 2,
   "metadata": {},
   "outputs": [
    {
     "data": {
      "text/html": [
       "<div><style>\n",
       ".dataframe > thead > tr > th,\n",
       ".dataframe > tbody > tr > td {\n",
       "  text-align: right;\n",
       "}\n",
       "</style>\n",
       "<small>shape: (5, 21)</small><table border=\"1\" class=\"dataframe\"><thead><tr><th>DATEUTC</th><th>ID</th><th>LC_HUMIDITY</th><th>LC_DWPTEMP</th><th>LC_n</th><th>LC_RAD</th><th>LC_RAININ</th><th>LC_DAILYRAIN</th><th>LC_WINDDIR</th><th>LC_WINDSPEED</th><th>Date</th><th>Year</th><th>Month</th><th>Day</th><th>Hour</th><th>Minute</th><th>LC_RAD60</th><th>LC_TEMP_QCL0</th><th>LC_TEMP_QCL1</th><th>LC_TEMP_QCL2</th><th>LC_TEMP_QCL3</th></tr><tr><td>str</td><td>str</td><td>i64</td><td>f64</td><td>i64</td><td>i64</td><td>f64</td><td>f64</td><td>i64</td><td>f64</td><td>str</td><td>i64</td><td>i64</td><td>i64</td><td>i64</td><td>i64</td><td>i64</td><td>f64</td><td>f64</td><td>f64</td><td>f64</td></tr></thead><tbody><tr><td>&quot;2022-01-01 00:…</td><td>&quot;LC-002&quot;</td><td>92</td><td>11.78</td><td>38</td><td>0</td><td>0.0</td><td>0.0</td><td>-169</td><td>0.43</td><td>&quot;2022-01-01&quot;</td><td>2022</td><td>1</td><td>1</td><td>0</td><td>10</td><td>0</td><td>13.11</td><td>13.11</td><td>13.0515</td><td>13.048027</td></tr><tr><td>&quot;2022-01-01 00:…</td><td>&quot;LC-002&quot;</td><td>92</td><td>11.73</td><td>37</td><td>0</td><td>0.0</td><td>0.0</td><td>-170</td><td>0.33</td><td>&quot;2022-01-01&quot;</td><td>2022</td><td>1</td><td>1</td><td>0</td><td>20</td><td>0</td><td>13.01</td><td>13.01</td><td>12.9515</td><td>12.985849</td></tr><tr><td>&quot;2022-01-01 00:…</td><td>&quot;LC-002&quot;</td><td>92</td><td>11.73</td><td>38</td><td>0</td><td>0.0</td><td>0.0</td><td>-167</td><td>0.46</td><td>&quot;2022-01-01&quot;</td><td>2022</td><td>1</td><td>1</td><td>0</td><td>30</td><td>0</td><td>13.0</td><td>13.0</td><td>12.9415</td><td>12.950322</td></tr><tr><td>&quot;2022-01-01 00:…</td><td>&quot;LC-002&quot;</td><td>92</td><td>11.72</td><td>37</td><td>0</td><td>0.0</td><td>0.0</td><td>-160</td><td>0.52</td><td>&quot;2022-01-01&quot;</td><td>2022</td><td>1</td><td>1</td><td>0</td><td>40</td><td>0</td><td>13.0</td><td>13.0</td><td>12.9415</td><td>12.94955</td></tr><tr><td>&quot;2022-01-01 00:…</td><td>&quot;LC-002&quot;</td><td>92</td><td>11.72</td><td>38</td><td>0</td><td>0.0</td><td>0.0</td><td>-166</td><td>0.51</td><td>&quot;2022-01-01&quot;</td><td>2022</td><td>1</td><td>1</td><td>0</td><td>50</td><td>0</td><td>13.0</td><td>13.0</td><td>12.9415</td><td>12.952268</td></tr></tbody></table></div>"
      ],
      "text/plain": [
       "shape: (5, 21)\n",
       "┌──────────┬────────┬───────────┬──────────┬───┬────────────┬────────────┬────────────┬────────────┐\n",
       "│ DATEUTC  ┆ ID     ┆ LC_HUMIDI ┆ LC_DWPTE ┆ … ┆ LC_TEMP_QC ┆ LC_TEMP_QC ┆ LC_TEMP_QC ┆ LC_TEMP_QC │\n",
       "│ ---      ┆ ---    ┆ TY        ┆ MP       ┆   ┆ L0         ┆ L1         ┆ L2         ┆ L3         │\n",
       "│ str      ┆ str    ┆ ---       ┆ ---      ┆   ┆ ---        ┆ ---        ┆ ---        ┆ ---        │\n",
       "│          ┆        ┆ i64       ┆ f64      ┆   ┆ f64        ┆ f64        ┆ f64        ┆ f64        │\n",
       "╞══════════╪════════╪═══════════╪══════════╪═══╪════════════╪════════════╪════════════╪════════════╡\n",
       "│ 2022-01- ┆ LC-002 ┆ 92        ┆ 11.78    ┆ … ┆ 13.11      ┆ 13.11      ┆ 13.0515    ┆ 13.048027  │\n",
       "│ 01       ┆        ┆           ┆          ┆   ┆            ┆            ┆            ┆            │\n",
       "│ 00:10:00 ┆        ┆           ┆          ┆   ┆            ┆            ┆            ┆            │\n",
       "│ 2022-01- ┆ LC-002 ┆ 92        ┆ 11.73    ┆ … ┆ 13.01      ┆ 13.01      ┆ 12.9515    ┆ 12.985849  │\n",
       "│ 01       ┆        ┆           ┆          ┆   ┆            ┆            ┆            ┆            │\n",
       "│ 00:20:00 ┆        ┆           ┆          ┆   ┆            ┆            ┆            ┆            │\n",
       "│ 2022-01- ┆ LC-002 ┆ 92        ┆ 11.73    ┆ … ┆ 13.0       ┆ 13.0       ┆ 12.9415    ┆ 12.950322  │\n",
       "│ 01       ┆        ┆           ┆          ┆   ┆            ┆            ┆            ┆            │\n",
       "│ 00:30:00 ┆        ┆           ┆          ┆   ┆            ┆            ┆            ┆            │\n",
       "│ 2022-01- ┆ LC-002 ┆ 92        ┆ 11.72    ┆ … ┆ 13.0       ┆ 13.0       ┆ 12.9415    ┆ 12.94955   │\n",
       "│ 01       ┆        ┆           ┆          ┆   ┆            ┆            ┆            ┆            │\n",
       "│ 00:40:00 ┆        ┆           ┆          ┆   ┆            ┆            ┆            ┆            │\n",
       "│ 2022-01- ┆ LC-002 ┆ 92        ┆ 11.72    ┆ … ┆ 13.0       ┆ 13.0       ┆ 12.9415    ┆ 12.952268  │\n",
       "│ 01       ┆        ┆           ┆          ┆   ┆            ┆            ┆            ┆            │\n",
       "│ 00:50:00 ┆        ┆           ┆          ┆   ┆            ┆            ┆            ┆            │\n",
       "└──────────┴────────┴───────────┴──────────┴───┴────────────┴────────────┴────────────┴────────────┘"
      ]
     },
     "execution_count": 2,
     "metadata": {},
     "output_type": "execute_result"
    }
   ],
   "source": [
    "df_meteo = pl.read_parquet('meteo_data.parquet')\n",
    "df_meteo.head()"
   ]
  },
  {
   "attachments": {},
   "cell_type": "markdown",
   "metadata": {},
   "source": [
    "## Noise Events Exploration"
   ]
  },
  {
   "cell_type": "code",
   "execution_count": 3,
   "metadata": {},
   "outputs": [
    {
     "data": {
      "text/html": [
       "<div><style>\n",
       ".dataframe > thead > tr > th,\n",
       ".dataframe > tbody > tr > td {\n",
       "  text-align: right;\n",
       "}\n",
       "</style>\n",
       "<small>shape: (5, 9)</small><table border=\"1\" class=\"dataframe\"><thead><tr><th>#object_id</th><th>description</th><th>result_timestamp</th><th>noise_event_laeq_model_id</th><th>noise_event_laeq_model_id_unit</th><th>noise_event_laeq_primary_detected_certainty</th><th>noise_event_laeq_primary_detected_certainty_unit</th><th>noise_event_laeq_primary_detected_class</th><th>noise_event_laeq_primary_detected_class_unit</th></tr><tr><td>i64</td><td>str</td><td>str</td><td>i64</td><td>str</td><td>i64</td><td>str</td><td>str</td><td>str</td></tr></thead><tbody><tr><td>255439</td><td>&quot;MP 01: Naamses…</td><td>&quot;28/02/2022 08:…</td><td>null</td><td>null</td><td>null</td><td>&quot;%&quot;</td><td>null</td><td>null</td></tr><tr><td>255439</td><td>&quot;MP 01: Naamses…</td><td>&quot;28/02/2022 13:…</td><td>null</td><td>null</td><td>null</td><td>&quot;%&quot;</td><td>null</td><td>null</td></tr><tr><td>255439</td><td>&quot;MP 01: Naamses…</td><td>&quot;28/02/2022 16:…</td><td>null</td><td>null</td><td>null</td><td>&quot;%&quot;</td><td>null</td><td>null</td></tr><tr><td>255439</td><td>&quot;MP 01: Naamses…</td><td>&quot;28/02/2022 19:…</td><td>null</td><td>null</td><td>null</td><td>&quot;%&quot;</td><td>null</td><td>null</td></tr><tr><td>255439</td><td>&quot;MP 01: Naamses…</td><td>&quot;28/02/2022 20:…</td><td>null</td><td>null</td><td>null</td><td>&quot;%&quot;</td><td>null</td><td>null</td></tr></tbody></table></div>"
      ],
      "text/plain": [
       "shape: (5, 9)\n",
       "┌──────────┬───────────┬────────────┬────────────┬───┬────────────┬────────────┬────────────┬────────────┐\n",
       "│ #object_ ┆ descripti ┆ result_tim ┆ noise_even ┆ … ┆ noise_even ┆ noise_even ┆ noise_even ┆ noise_even │\n",
       "│ id       ┆ on        ┆ estamp     ┆ t_laeq_mod ┆   ┆ t_laeq_pri ┆ t_laeq_pri ┆ t_laeq_pri ┆ t_laeq_pri │\n",
       "│ ---      ┆ ---       ┆ ---        ┆ el_id      ┆   ┆ mary_detec ┆ mary_detec ┆ mary_detec ┆ mary_detec │\n",
       "│ i64      ┆ str       ┆ str        ┆ ---        ┆   ┆ te…        ┆ te…        ┆ te…        ┆ te…        │\n",
       "│          ┆           ┆            ┆ i64        ┆   ┆ ---        ┆ ---        ┆ ---        ┆ ---        │\n",
       "│          ┆           ┆            ┆            ┆   ┆ i64        ┆ str        ┆ str        ┆ str        │\n",
       "╞══════════╪═══════════╪════════════╪════════════╪═══╪════════════╪════════════╪════════════╪════════════╡\n",
       "│ 255439   ┆ MP 01:    ┆ 28/02/2022 ┆ null       ┆ … ┆ null       ┆ %          ┆ null       ┆ null       │\n",
       "│          ┆ Naamsestr ┆ 08:27:21.7 ┆            ┆   ┆            ┆            ┆            ┆            │\n",
       "│          ┆ aat 35    ┆ 37         ┆            ┆   ┆            ┆            ┆            ┆            │\n",
       "│          ┆ Maxim     ┆            ┆            ┆   ┆            ┆            ┆            ┆            │\n",
       "│ 255439   ┆ MP 01:    ┆ 28/02/2022 ┆ null       ┆ … ┆ null       ┆ %          ┆ null       ┆ null       │\n",
       "│          ┆ Naamsestr ┆ 13:58:21.3 ┆            ┆   ┆            ┆            ┆            ┆            │\n",
       "│          ┆ aat 35    ┆ 56         ┆            ┆   ┆            ┆            ┆            ┆            │\n",
       "│          ┆ Maxim     ┆            ┆            ┆   ┆            ┆            ┆            ┆            │\n",
       "│ 255439   ┆ MP 01:    ┆ 28/02/2022 ┆ null       ┆ … ┆ null       ┆ %          ┆ null       ┆ null       │\n",
       "│          ┆ Naamsestr ┆ 16:43:15.3 ┆            ┆   ┆            ┆            ┆            ┆            │\n",
       "│          ┆ aat 35    ┆ 93         ┆            ┆   ┆            ┆            ┆            ┆            │\n",
       "│          ┆ Maxim     ┆            ┆            ┆   ┆            ┆            ┆            ┆            │\n",
       "│ 255439   ┆ MP 01:    ┆ 28/02/2022 ┆ null       ┆ … ┆ null       ┆ %          ┆ null       ┆ null       │\n",
       "│          ┆ Naamsestr ┆ 19:22:48.4 ┆            ┆   ┆            ┆            ┆            ┆            │\n",
       "│          ┆ aat 35    ┆ 28         ┆            ┆   ┆            ┆            ┆            ┆            │\n",
       "│          ┆ Maxim     ┆            ┆            ┆   ┆            ┆            ┆            ┆            │\n",
       "│ 255439   ┆ MP 01:    ┆ 28/02/2022 ┆ null       ┆ … ┆ null       ┆ %          ┆ null       ┆ null       │\n",
       "│          ┆ Naamsestr ┆ 20:32:20.4 ┆            ┆   ┆            ┆            ┆            ┆            │\n",
       "│          ┆ aat 35    ┆ 40         ┆            ┆   ┆            ┆            ┆            ┆            │\n",
       "│          ┆ Maxim     ┆            ┆            ┆   ┆            ┆            ┆            ┆            │\n",
       "└──────────┴───────────┴────────────┴────────────┴───┴────────────┴────────────┴────────────┴────────────┘"
      ]
     },
     "execution_count": 3,
     "metadata": {},
     "output_type": "execute_result"
    }
   ],
   "source": [
    "df_events = pl.read_parquet('noise_events.parquet')\n",
    "df_events.head()"
   ]
  },
  {
   "cell_type": "code",
   "execution_count": null,
   "metadata": {},
   "outputs": [],
   "source": []
  }
 ],
 "metadata": {
  "kernelspec": {
   "display_name": ".venv",
   "language": "python",
   "name": "python3"
  },
  "language_info": {
   "codemirror_mode": {
    "name": "ipython",
    "version": 3
   },
   "file_extension": ".py",
   "mimetype": "text/x-python",
   "name": "python",
   "nbconvert_exporter": "python",
   "pygments_lexer": "ipython3",
   "version": "3.9.7"
  },
  "orig_nbformat": 4
 },
 "nbformat": 4,
 "nbformat_minor": 2
}
