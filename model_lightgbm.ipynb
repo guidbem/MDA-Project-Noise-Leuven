{
 "cells": [
  {
   "attachments": {},
   "cell_type": "markdown",
   "metadata": {},
   "source": [
    "# LightGBM \n",
    "\n",
    "This notebook will be used to tune and evaluate the LightGBM model"
   ]
  },
  {
   "cell_type": "code",
   "execution_count": 2,
   "metadata": {},
   "outputs": [],
   "source": [
    "from sklearn.pipeline import Pipeline, make_pipeline\n",
    "from sklearn.model_selection import train_test_split, KFold, cross_val_score, StratifiedKFold, GridSearchCV, RandomizedSearchCV\n",
    "from lightgbm import LGBMClassifier\n",
    "from sklearn.preprocessing import FunctionTransformer\n",
    "from sklearn.metrics import accuracy_score, confusion_matrix, roc_auc_score, classification_report, balanced_accuracy_score\n",
    "import pandas as pd\n",
    "import numpy as np\n",
    "import seaborn as sns\n",
    "import matplotlib.pyplot as plt\n",
    "import pickle\n",
    "from pprint import pprint\n",
    "from skopt import BayesSearchCV\n",
    "from skopt.space import Real, Integer\n",
    "from utils.model_datatransforms import *"
   ]
  },
  {
   "attachments": {},
   "cell_type": "markdown",
   "metadata": {},
   "source": [
    "---\n",
    "## Data Loading"
   ]
  },
  {
   "cell_type": "code",
   "execution_count": 3,
   "metadata": {},
   "outputs": [],
   "source": [
    "df = pd.read_parquet('pred_model_data_full.parquet')"
   ]
  },
  {
   "cell_type": "code",
   "execution_count": 16,
   "metadata": {},
   "outputs": [
    {
     "data": {
      "text/plain": [
       "Transport road - Passenger car    47386\n",
       "Unsupported                       20791\n",
       "Human voice - Shouting             5742\n",
       "Transport road - Siren             1992\n",
       "Human voice - Singing              1082\n",
       "Music non-amplified                 126\n",
       "Nature elements - Wind              113\n",
       "Name: noise_event_laeq_primary_detected_class, dtype: int64"
      ]
     },
     "execution_count": 16,
     "metadata": {},
     "output_type": "execute_result"
    }
   ],
   "source": [
    "df.noise_event_laeq_primary_detected_class.value_counts()"
   ]
  },
  {
   "attachments": {},
   "cell_type": "markdown",
   "metadata": {},
   "source": [
    "Since we have fewer observations for 'Music non-amplified' and 'Nature elements - Wind', we will join these classes to 'Unsupported' "
   ]
  },
  {
   "cell_type": "code",
   "execution_count": 4,
   "metadata": {},
   "outputs": [
    {
     "data": {
      "text/plain": [
       "Transport road - Passenger car    47386\n",
       "Other                             21030\n",
       "Human voice - Shouting             5742\n",
       "Transport road - Siren             1992\n",
       "Human voice - Singing              1082\n",
       "Name: noise_event_laeq_primary_detected_class, dtype: int64"
      ]
     },
     "execution_count": 4,
     "metadata": {},
     "output_type": "execute_result"
    }
   ],
   "source": [
    "conditions = df['noise_event_laeq_primary_detected_class'].isin(['Music non-amplified', 'Nature elements - Wind', 'Unsupported'])\n",
    "df.loc[conditions, 'noise_event_laeq_primary_detected_class'] = 'Other'\n",
    "\n",
    "df.noise_event_laeq_primary_detected_class.value_counts()"
   ]
  },
  {
   "cell_type": "code",
   "execution_count": 5,
   "metadata": {},
   "outputs": [
    {
     "name": "stderr",
     "output_type": "stream",
     "text": [
      "c:\\Users\\anaso\\anaconda3\\lib\\site-packages\\sklearn\\preprocessing\\_label.py:115: DataConversionWarning: A column-vector y was passed when a 1d array was expected. Please change the shape of y to (n_samples, ), for example using ravel().\n",
      "  y = column_or_1d(y, warn=True)\n"
     ]
    }
   ],
   "source": [
    "X = df.drop(columns=['noise_event_laeq_primary_detected_class']) \n",
    "\n",
    "le = LabelEncoder()\n",
    "y = le.fit_transform(df[['noise_event_laeq_primary_detected_class']])\n",
    "\n",
    "X_train, X_test, y_train, y_test = train_test_split(X, y, train_size=0.7, random_state=1)"
   ]
  },
  {
   "attachments": {},
   "cell_type": "markdown",
   "metadata": {},
   "source": [
    "Convert 'noise_event_laeq_primary_detected_certainty' to values between 0 and 1"
   ]
  },
  {
   "cell_type": "code",
   "execution_count": 6,
   "metadata": {},
   "outputs": [
    {
     "data": {
      "text/plain": [
       "0        0.97\n",
       "1        0.78\n",
       "2        0.98\n",
       "3        1.00\n",
       "4        1.00\n",
       "         ... \n",
       "77227    0.96\n",
       "77228    0.98\n",
       "77229    0.85\n",
       "77230    0.00\n",
       "77231    0.00\n",
       "Name: noise_event_laeq_primary_detected_certainty, Length: 77232, dtype: float64"
      ]
     },
     "execution_count": 6,
     "metadata": {},
     "output_type": "execute_result"
    }
   ],
   "source": [
    "X['noise_event_laeq_primary_detected_certainty']=X['noise_event_laeq_primary_detected_certainty']/100\n",
    "X.noise_event_laeq_primary_detected_certainty"
   ]
  },
  {
   "attachments": {},
   "cell_type": "markdown",
   "metadata": {},
   "source": [
    "---\n",
    "# Certainty + balanced_accuracy"
   ]
  },
  {
   "cell_type": "code",
   "execution_count": 73,
   "metadata": {},
   "outputs": [],
   "source": [
    "pipeline = Pipeline(steps=[\n",
    "    ('day_period_handler',\n",
    "     DayPeriodHandler()\n",
    "     ),\n",
    "    ('month_handler',\n",
    "     MonthHandler(strategy='month')\n",
    "     ),\n",
    "    ('day_of_the_week_handler',\n",
    "     DayoftheWeekHandler(strategy='full')\n",
    "     ),\n",
    "    ('column_dropper',\n",
    "     ColumnDropper(columns_to_drop=[\n",
    "    'date', \n",
    "    'hour',\n",
    "    'minute',\n",
    "    'second',\n",
    "    'noise_event_laeq_model_id',\n",
    "    #'noise_event_laeq_primary_detected_certainty'\n",
    "    ])\n",
    "     ),\n",
    "    ('custom_encoder',\n",
    "     CustomEncoder(\n",
    "        columns=['#object_id', 'day_period', 'month', 'weekday'],\n",
    "        strategy='one_hot')\n",
    "     ),\n",
    "    ('pca',\n",
    "     PCATransformer(\n",
    "        n_components=7,\n",
    "        columns=[\n",
    "            'lamax', 'laeq', 'lceq', 'lcpeak',\n",
    "            'lamax_shift_t-_1', 'laeq_shift_t-_1', 'lceq_shift_t-_1',\n",
    "            'lcpeak_shift_t-_1', 'lamax_shift_t-_2', 'laeq_shift_t-_2',\n",
    "            'lceq_shift_t-_2', 'lcpeak_shift_t-_2', 'lamax_shift_t-_3',\n",
    "            'laeq_shift_t-_3', 'lceq_shift_t-_3', 'lcpeak_shift_t-_3',\n",
    "            'lamax_shift_t-_4', 'laeq_shift_t-_4', 'lceq_shift_t-_4',\n",
    "            'lcpeak_shift_t-_4', 'lamax_shift_t-_5', 'laeq_shift_t-_5',\n",
    "            'lceq_shift_t-_5', 'lcpeak_shift_t-_5'\n",
    "        ])\n",
    "     ),\n",
    "     ('lightgbm', LGBMClassifier(random_state=42, class_weight='balanced'))\n",
    "])"
   ]
  },
  {
   "cell_type": "code",
   "execution_count": 70,
   "metadata": {},
   "outputs": [
    {
     "data": {
      "text/plain": [
       "0.8206680810909059"
      ]
     },
     "execution_count": 70,
     "metadata": {},
     "output_type": "execute_result"
    }
   ],
   "source": [
    "cv = StratifiedKFold(n_splits=3, shuffle=True)\n",
    "scores3 = cross_val_score(pipeline, X_train, y_train, scoring='balanced_accuracy', cv=cv, error_score='raise', n_jobs=-1)\n",
    "scores3.mean()"
   ]
  },
  {
   "cell_type": "code",
   "execution_count": 74,
   "metadata": {},
   "outputs": [],
   "source": [
    "#choose the parameters\n",
    "n_estimators = np.arange(30,70,10)\n",
    "learning_rate = np.array([0.05,0.1,0.15])\n",
    "num_leaves = np.arange(20,60,10)\n",
    "min_child_samples=np.arange(15,30,5)\n",
    "eval_metric = ['mlogloss'] #'merror'\n",
    "\n",
    "params_grid = {\n",
    "    'month_handler__strategy': ['month'],#,'season'\n",
    "    'day_of_the_week_handler__strategy': ['full'],#, 'weekend'\n",
    "    'custom_encoder__strategy': ['one_hot', 'binary'],\n",
    "    'lightgbm__n_estimators': n_estimators,\n",
    "    'lightgbm__learning_rate': learning_rate,\n",
    "    'lightgbm__num_leaves': num_leaves,\n",
    "    'lightgbm__min_child_samples': min_child_samples,\n",
    "    'lightgbm__eval_metric': eval_metric\n",
    "}"
   ]
  },
  {
   "cell_type": "code",
   "execution_count": 75,
   "metadata": {},
   "outputs": [
    {
     "name": "stdout",
     "output_type": "stream",
     "text": [
      "[LightGBM] [Warning] Unknown parameter: eval_metric\n",
      "Best Score: 0.829504536992104\n",
      "Best Parameters: {'month_handler__strategy': 'month', 'lightgbm__num_leaves': 20, 'lightgbm__n_estimators': 50, 'lightgbm__min_child_samples': 20, 'lightgbm__learning_rate': 0.1, 'lightgbm__eval_metric': 'mlogloss', 'day_of_the_week_handler__strategy': 'full', 'custom_encoder__strategy': 'one_hot'}\n"
     ]
    }
   ],
   "source": [
    "cv = KFold(n_splits=3)\n",
    "search = RandomizedSearchCV(pipeline, param_distributions=params_grid, n_jobs=-1, cv=cv, n_iter=250, scoring='balanced_accuracy')\n",
    "\n",
    "# Find optimal parameters\n",
    "search.fit(X_train, y_train)\n",
    "\n",
    "print(\"Best Score:\", search.best_score_)\n",
    "#print(\"Best Estimator:\", search.best_estimator_)\n",
    "print(\"Best Parameters:\", search.best_params_)"
   ]
  },
  {
   "attachments": {},
   "cell_type": "markdown",
   "metadata": {},
   "source": [
    "## Model Evaluation"
   ]
  },
  {
   "cell_type": "code",
   "execution_count": 7,
   "metadata": {},
   "outputs": [],
   "source": [
    "pipeline = Pipeline(steps=[\n",
    "    ('day_period_handler',\n",
    "     DayPeriodHandler()\n",
    "     ),\n",
    "    ('month_handler',\n",
    "     MonthHandler(strategy='month')\n",
    "     ),\n",
    "    ('day_of_the_week_handler',\n",
    "     DayoftheWeekHandler(strategy='full')\n",
    "     ),\n",
    "    ('column_dropper',\n",
    "     ColumnDropper(columns_to_drop=[\n",
    "    'date', \n",
    "    'hour',\n",
    "    'minute',\n",
    "    'second',\n",
    "    'noise_event_laeq_model_id',\n",
    "    #'noise_event_laeq_primary_detected_certainty'\n",
    "    ])\n",
    "     ),\n",
    "    ('custom_encoder',\n",
    "     CustomEncoder(\n",
    "        columns=['#object_id', 'day_period', 'month', 'weekday'],\n",
    "        strategy='one_hot')\n",
    "     ),\n",
    "    ('pca',\n",
    "     PCATransformer(\n",
    "        n_components=7,\n",
    "        columns=[\n",
    "            'lamax', 'laeq', 'lceq', 'lcpeak',\n",
    "            'lamax_shift_t-_1', 'laeq_shift_t-_1', 'lceq_shift_t-_1',\n",
    "            'lcpeak_shift_t-_1', 'lamax_shift_t-_2', 'laeq_shift_t-_2',\n",
    "            'lceq_shift_t-_2', 'lcpeak_shift_t-_2', 'lamax_shift_t-_3',\n",
    "            'laeq_shift_t-_3', 'lceq_shift_t-_3', 'lcpeak_shift_t-_3',\n",
    "            'lamax_shift_t-_4', 'laeq_shift_t-_4', 'lceq_shift_t-_4',\n",
    "            'lcpeak_shift_t-_4', 'lamax_shift_t-_5', 'laeq_shift_t-_5',\n",
    "            'lceq_shift_t-_5', 'lcpeak_shift_t-_5'\n",
    "        ])\n",
    "     ),\n",
    "     ('lightgbm', LGBMClassifier(random_state=42, class_weight='balanced', num_leaves=20, n_estimators=50, min_child_samples=20, learning_rate=0.1, eval_metric='mlogloss'))\n",
    "])"
   ]
  },
  {
   "cell_type": "code",
   "execution_count": 8,
   "metadata": {},
   "outputs": [
    {
     "name": "stdout",
     "output_type": "stream",
     "text": [
      "[LightGBM] [Warning] Unknown parameter: eval_metric\n"
     ]
    },
    {
     "data": {
      "text/plain": [
       "Pipeline(steps=[('day_period_handler', DayPeriodHandler()),\n",
       "                ('month_handler', MonthHandler()),\n",
       "                ('day_of_the_week_handler', DayoftheWeekHandler()),\n",
       "                ('column_dropper',\n",
       "                 ColumnDropper(columns_to_drop=['date', 'hour', 'minute',\n",
       "                                                'second',\n",
       "                                                'noise_event_laeq_model_id'])),\n",
       "                ('custom_encoder',\n",
       "                 CustomEncoder(columns=['#object_id', 'day_period', 'month',\n",
       "                                        'weekday'])),\n",
       "                ('pca',\n",
       "                 PC...\n",
       "                                         'lamax_shift_t-_3', 'laeq_shift_t-_3',\n",
       "                                         'lceq_shift_t-_3', 'lcpeak_shift_t-_3',\n",
       "                                         'lamax_shift_t-_4', 'laeq_shift_t-_4',\n",
       "                                         'lceq_shift_t-_4', 'lcpeak_shift_t-_4',\n",
       "                                         'lamax_shift_t-_5', 'laeq_shift_t-_5',\n",
       "                                         'lceq_shift_t-_5',\n",
       "                                         'lcpeak_shift_t-_5'],\n",
       "                                n_components=7)),\n",
       "                ('lightgbm',\n",
       "                 LGBMClassifier(class_weight='balanced', eval_metric='mlogloss',\n",
       "                                n_estimators=50, num_leaves=20,\n",
       "                                random_state=42))])"
      ]
     },
     "execution_count": 8,
     "metadata": {},
     "output_type": "execute_result"
    }
   ],
   "source": [
    "pipeline.fit(X_train, y_train)"
   ]
  },
  {
   "cell_type": "code",
   "execution_count": 78,
   "metadata": {},
   "outputs": [],
   "source": [
    "y_pred = pipeline.predict(X_test)\n",
    "#y_pred"
   ]
  },
  {
   "cell_type": "code",
   "execution_count": 79,
   "metadata": {},
   "outputs": [],
   "source": [
    "y_pred_proba = pipeline.predict_proba(X_test)\n",
    "#y_pred_proba"
   ]
  },
  {
   "cell_type": "code",
   "execution_count": 80,
   "metadata": {},
   "outputs": [
    {
     "data": {
      "text/plain": [
       "0.8240549232732921"
      ]
     },
     "execution_count": 80,
     "metadata": {},
     "output_type": "execute_result"
    }
   ],
   "source": [
    "print('Accuracy:', accuracy_score(y_test, y_pred))\n",
    "print('Balanced Accuracy:', balanced_accuracy_score(y_test, y_pred))"
   ]
  },
  {
   "cell_type": "code",
   "execution_count": 81,
   "metadata": {},
   "outputs": [
    {
     "data": {
      "text/plain": [
       "0.9668549616435215"
      ]
     },
     "execution_count": 81,
     "metadata": {},
     "output_type": "execute_result"
    }
   ],
   "source": [
    "roc_auc_score(y_test, y_pred_proba, multi_class='ovo')"
   ]
  },
  {
   "cell_type": "code",
   "execution_count": 82,
   "metadata": {},
   "outputs": [],
   "source": [
    "cm = confusion_matrix(y_test, y_pred)\n",
    "\n",
    "# Define the class labels\n",
    "classes = list(le.classes_)\n",
    "\n",
    "cm_df = pd.DataFrame(cm,\n",
    "                     index = classes, \n",
    "                     columns = classes)"
   ]
  },
  {
   "cell_type": "code",
   "execution_count": 83,
   "metadata": {},
   "outputs": [
    {
     "data": {
      "image/png": "[encoded data removed]",
      "text/plain": [
       "<Figure size 800x600 with 2 Axes>"
      ]
     },
     "metadata": {},
     "output_type": "display_data"
    }
   ],
   "source": [
    "plt.figure(figsize=(8,6))\n",
    "ax = sns.heatmap(cm_df, annot=True, fmt='.0f')\n",
    "plt.title('Confusion Matrix')\n",
    "plt.ylabel('Actal Values')\n",
    "plt.xlabel('Predicted Values')\n",
    "\n",
    "\n",
    "plt.show()"
   ]
  },
  {
   "cell_type": "code",
   "execution_count": 84,
   "metadata": {},
   "outputs": [
    {
     "name": "stdout",
     "output_type": "stream",
     "text": [
      "                                precision    recall  f1-score   support\n",
      "\n",
      "        Human voice - Shouting       0.58      0.75      0.66      1671\n",
      "         Human voice - Singing       0.23      0.74      0.35       352\n",
      "                         Other       1.00      0.99      1.00      6224\n",
      "Transport road - Passenger car       0.99      0.86      0.92     14301\n",
      "        Transport road - Siren       0.39      0.78      0.52       622\n",
      "\n",
      "                      accuracy                           0.88     23170\n",
      "                     macro avg       0.64      0.82      0.69     23170\n",
      "                  weighted avg       0.93      0.88      0.90     23170\n",
      "\n"
     ]
    }
   ],
   "source": [
    "print(classification_report(y_test, y_pred, target_names=classes))"
   ]
  },
  {
   "attachments": {},
   "cell_type": "markdown",
   "metadata": {},
   "source": [
    "---\n",
    "# Certainty + F1-weighted"
   ]
  },
  {
   "cell_type": "code",
   "execution_count": 127,
   "metadata": {},
   "outputs": [],
   "source": [
    "pipeline = Pipeline(steps=[\n",
    "    ('day_period_handler',\n",
    "     DayPeriodHandler()\n",
    "     ),\n",
    "    ('month_handler',\n",
    "     MonthHandler(strategy='month')\n",
    "     ),\n",
    "    ('day_of_the_week_handler',\n",
    "     DayoftheWeekHandler(strategy='full')\n",
    "     ),\n",
    "    ('column_dropper',\n",
    "     ColumnDropper(columns_to_drop=[\n",
    "    'date', \n",
    "    'hour',\n",
    "    'minute',\n",
    "    'second',\n",
    "    'noise_event_laeq_model_id',\n",
    "    #'noise_event_laeq_primary_detected_certainty'\n",
    "    ])\n",
    "     ),\n",
    "    ('custom_encoder',\n",
    "     CustomEncoder(\n",
    "        columns=['#object_id', 'day_period', 'month', 'weekday'],\n",
    "        #strategy='one_hot'\n",
    "        )\n",
    "     ),\n",
    "    ('pca',\n",
    "     PCATransformer(\n",
    "        n_components=7,\n",
    "        columns=[\n",
    "            'lamax', 'laeq', 'lceq', 'lcpeak',\n",
    "            'lamax_shift_t-_1', 'laeq_shift_t-_1', 'lceq_shift_t-_1',\n",
    "            'lcpeak_shift_t-_1', 'lamax_shift_t-_2', 'laeq_shift_t-_2',\n",
    "            'lceq_shift_t-_2', 'lcpeak_shift_t-_2', 'lamax_shift_t-_3',\n",
    "            'laeq_shift_t-_3', 'lceq_shift_t-_3', 'lcpeak_shift_t-_3',\n",
    "            'lamax_shift_t-_4', 'laeq_shift_t-_4', 'lceq_shift_t-_4',\n",
    "            'lcpeak_shift_t-_4', 'lamax_shift_t-_5', 'laeq_shift_t-_5',\n",
    "            'lceq_shift_t-_5', 'lcpeak_shift_t-_5'\n",
    "        ])\n",
    "     ),\n",
    "     ('lightgbm', LGBMClassifier(random_state=42, class_weight='balanced',n_estimators=400,learning_rate=0.2,num_leaves=30,min_child_samples=35,eval_metric='mlogloss'))\n",
    "])"
   ]
  },
  {
   "cell_type": "code",
   "execution_count": 128,
   "metadata": {},
   "outputs": [
    {
     "data": {
      "text/plain": [
       "0.9488843321668655"
      ]
     },
     "execution_count": 128,
     "metadata": {},
     "output_type": "execute_result"
    }
   ],
   "source": [
    "cv = StratifiedKFold(n_splits=3, shuffle=True)\n",
    "scores3 = cross_val_score(pipeline, X_train, y_train, scoring='f1_weighted', cv=cv, error_score='raise', n_jobs=-1)\n",
    "scores3.mean()"
   ]
  },
  {
   "cell_type": "code",
   "execution_count": 129,
   "metadata": {},
   "outputs": [],
   "source": [
    "#choose the parameters\n",
    "n_estimators = np.arange(300,500,50)\n",
    "learning_rate = np.array([0.1,0.2,0.3])\n",
    "num_leaves = np.arange(20,60,10)\n",
    "min_child_samples=np.arange(15,40,5)\n",
    "eval_metric = ['mlogloss'] #'merror'\n",
    "\n",
    "params_grid = {\n",
    "    'month_handler__strategy': ['month'],#,'season'\n",
    "    'day_of_the_week_handler__strategy': ['full'],#, 'weekend'\n",
    "    'custom_encoder__strategy': ['one_hot', 'binary'],\n",
    "    'lightgbm__n_estimators': n_estimators,\n",
    "    'lightgbm__learning_rate': learning_rate,\n",
    "    'lightgbm__num_leaves': num_leaves,\n",
    "    'lightgbm__min_child_samples': min_child_samples,\n",
    "    'lightgbm__eval_metric': eval_metric\n",
    "}"
   ]
  },
  {
   "cell_type": "code",
   "execution_count": 130,
   "metadata": {},
   "outputs": [
    {
     "name": "stdout",
     "output_type": "stream",
     "text": [
      "[LightGBM] [Warning] Unknown parameter: eval_metric\n",
      "Best Score: 0.9490627432579277\n",
      "Best Parameters: {'month_handler__strategy': 'month', 'lightgbm__num_leaves': 50, 'lightgbm__n_estimators': 350, 'lightgbm__min_child_samples': 30, 'lightgbm__learning_rate': 0.3, 'lightgbm__eval_metric': 'mlogloss', 'day_of_the_week_handler__strategy': 'full', 'custom_encoder__strategy': 'one_hot'}\n"
     ]
    }
   ],
   "source": [
    "cv = KFold(n_splits=3)\n",
    "search = RandomizedSearchCV(pipeline, param_distributions=params_grid, n_jobs=-1, cv=cv, n_iter=400, scoring='f1_weighted')\n",
    "\n",
    "# Find optimal parameters\n",
    "search.fit(X_train, y_train)\n",
    "\n",
    "print(\"Best Score:\", search.best_score_)\n",
    "#print(\"Best Estimator:\", search.best_estimator_)\n",
    "print(\"Best Parameters:\", search.best_params_)"
   ]
  },
  {
   "attachments": {},
   "cell_type": "markdown",
   "metadata": {},
   "source": [
    "## Model Evaluation"
   ]
  },
  {
   "cell_type": "code",
   "execution_count": 9,
   "metadata": {},
   "outputs": [],
   "source": [
    "pipeline = Pipeline(steps=[\n",
    "    ('day_period_handler',\n",
    "     DayPeriodHandler()\n",
    "     ),\n",
    "    ('month_handler',\n",
    "     MonthHandler(strategy='month')\n",
    "     ),\n",
    "    ('day_of_the_week_handler',\n",
    "     DayoftheWeekHandler(strategy='full')\n",
    "     ),\n",
    "    ('column_dropper',\n",
    "     ColumnDropper(columns_to_drop=[\n",
    "    'date', \n",
    "    'hour',\n",
    "    'minute',\n",
    "    'second',\n",
    "    'noise_event_laeq_model_id',\n",
    "    #'noise_event_laeq_primary_detected_certainty'\n",
    "    ])\n",
    "     ),\n",
    "    ('custom_encoder',\n",
    "     CustomEncoder(\n",
    "        columns=['#object_id', 'day_period', 'month', 'weekday'],\n",
    "        strategy='one_hot')\n",
    "     ),\n",
    "    ('pca',\n",
    "     PCATransformer(\n",
    "        n_components=7,\n",
    "        columns=[\n",
    "            'lamax', 'laeq', 'lceq', 'lcpeak',\n",
    "            'lamax_shift_t-_1', 'laeq_shift_t-_1', 'lceq_shift_t-_1',\n",
    "            'lcpeak_shift_t-_1', 'lamax_shift_t-_2', 'laeq_shift_t-_2',\n",
    "            'lceq_shift_t-_2', 'lcpeak_shift_t-_2', 'lamax_shift_t-_3',\n",
    "            'laeq_shift_t-_3', 'lceq_shift_t-_3', 'lcpeak_shift_t-_3',\n",
    "            'lamax_shift_t-_4', 'laeq_shift_t-_4', 'lceq_shift_t-_4',\n",
    "            'lcpeak_shift_t-_4', 'lamax_shift_t-_5', 'laeq_shift_t-_5',\n",
    "            'lceq_shift_t-_5', 'lcpeak_shift_t-_5'\n",
    "        ])\n",
    "     ),\n",
    "     ('lightgbm', LGBMClassifier(random_state=42, class_weight='balanced', num_leaves=50, n_estimators=350, min_child_samples=30, learning_rate=0.3, eval_metric='mlogloss'))\n",
    "])"
   ]
  },
  {
   "cell_type": "code",
   "execution_count": 10,
   "metadata": {},
   "outputs": [
    {
     "data": {
      "text/plain": [
       "Pipeline(steps=[('day_period_handler', DayPeriodHandler()),\n",
       "                ('month_handler', MonthHandler()),\n",
       "                ('day_of_the_week_handler', DayoftheWeekHandler()),\n",
       "                ('column_dropper',\n",
       "                 ColumnDropper(columns_to_drop=['date', 'hour', 'minute',\n",
       "                                                'second',\n",
       "                                                'noise_event_laeq_model_id'])),\n",
       "                ('custom_encoder',\n",
       "                 CustomEncoder(columns=['#object_id', 'day_period', 'month',\n",
       "                                        'weekday'])),\n",
       "                ('pca',\n",
       "                 PC...\n",
       "                                         'lceq_shift_t-_3', 'lcpeak_shift_t-_3',\n",
       "                                         'lamax_shift_t-_4', 'laeq_shift_t-_4',\n",
       "                                         'lceq_shift_t-_4', 'lcpeak_shift_t-_4',\n",
       "                                         'lamax_shift_t-_5', 'laeq_shift_t-_5',\n",
       "                                         'lceq_shift_t-_5',\n",
       "                                         'lcpeak_shift_t-_5'],\n",
       "                                n_components=7)),\n",
       "                ('lightgbm',\n",
       "                 LGBMClassifier(class_weight='balanced', eval_metric='mlogloss',\n",
       "                                learning_rate=0.3, min_child_samples=30,\n",
       "                                n_estimators=350, num_leaves=50,\n",
       "                                random_state=42))])"
      ]
     },
     "execution_count": 10,
     "metadata": {},
     "output_type": "execute_result"
    }
   ],
   "source": [
    "pipeline.fit(X_train, y_train)"
   ]
  },
  {
   "cell_type": "code",
   "execution_count": 133,
   "metadata": {},
   "outputs": [],
   "source": [
    "y_pred = pipeline.predict(X_test)"
   ]
  },
  {
   "cell_type": "code",
   "execution_count": 134,
   "metadata": {},
   "outputs": [],
   "source": [
    "y_pred_proba = pipeline.predict_proba(X_test)"
   ]
  },
  {
   "cell_type": "code",
   "execution_count": 135,
   "metadata": {},
   "outputs": [
    {
     "name": "stdout",
     "output_type": "stream",
     "text": [
      "Accuracy: 0.953646957272335\n",
      "Balanced Accuracy: 0.7723247723839965\n"
     ]
    }
   ],
   "source": [
    "print('Accuracy:', accuracy_score(y_test, y_pred))\n",
    "print('Balanced Accuracy:', balanced_accuracy_score(y_test, y_pred))"
   ]
  },
  {
   "cell_type": "code",
   "execution_count": 136,
   "metadata": {},
   "outputs": [
    {
     "data": {
      "text/plain": [
       "0.9655949197074332"
      ]
     },
     "execution_count": 136,
     "metadata": {},
     "output_type": "execute_result"
    }
   ],
   "source": [
    "roc_auc_score(y_test, y_pred_proba, multi_class='ovo')"
   ]
  },
  {
   "cell_type": "code",
   "execution_count": 137,
   "metadata": {},
   "outputs": [],
   "source": [
    "cm = confusion_matrix(y_test, y_pred)\n",
    "\n",
    "# Define the class labels\n",
    "classes = list(le.classes_)\n",
    "\n",
    "cm_df = pd.DataFrame(cm,\n",
    "                     index = classes, \n",
    "                     columns = classes)"
   ]
  },
  {
   "cell_type": "code",
   "execution_count": 138,
   "metadata": {},
   "outputs": [
    {
     "data": {
      "image/png": "[encoded data removed]",
      "text/plain": [
       "<Figure size 800x600 with 2 Axes>"
      ]
     },
     "metadata": {},
     "output_type": "display_data"
    }
   ],
   "source": [
    "plt.figure(figsize=(8,6))\n",
    "ax = sns.heatmap(cm_df, annot=True, fmt='.0f')\n",
    "plt.title('Confusion Matrix')\n",
    "plt.ylabel('Actal Values')\n",
    "plt.xlabel('Predicted Values')\n",
    "\n",
    "plt.show()"
   ]
  },
  {
   "cell_type": "code",
   "execution_count": 139,
   "metadata": {},
   "outputs": [
    {
     "name": "stdout",
     "output_type": "stream",
     "text": [
      "                                precision    recall  f1-score   support\n",
      "\n",
      "        Human voice - Shouting       0.77      0.78      0.77      1671\n",
      "         Human voice - Singing       0.72      0.44      0.54       352\n",
      "                         Other       1.00      0.99      1.00      6224\n",
      "Transport road - Passenger car       0.97      0.98      0.97     14301\n",
      "        Transport road - Siren       0.80      0.67      0.73       622\n",
      "\n",
      "                      accuracy                           0.95     23170\n",
      "                     macro avg       0.85      0.77      0.80     23170\n",
      "                  weighted avg       0.95      0.95      0.95     23170\n",
      "\n"
     ]
    }
   ],
   "source": [
    "print(classification_report(y_test, y_pred, target_names=classes))"
   ]
  },
  {
   "attachments": {},
   "cell_type": "markdown",
   "metadata": {},
   "source": [
    "--- \n",
    "# No certainty + balanced_accuracy"
   ]
  },
  {
   "attachments": {},
   "cell_type": "markdown",
   "metadata": {},
   "source": [
    "We will drop the column 'noise_event_laeq_primary_detected_certainty'"
   ]
  },
  {
   "cell_type": "code",
   "execution_count": 207,
   "metadata": {},
   "outputs": [],
   "source": [
    "pipeline = Pipeline(steps=[\n",
    "    ('day_period_handler',\n",
    "     DayPeriodHandler()\n",
    "     ),\n",
    "    ('month_handler',\n",
    "     MonthHandler(strategy='month')\n",
    "     ),\n",
    "    ('day_of_the_week_handler',\n",
    "     DayoftheWeekHandler(strategy='full')\n",
    "     ),\n",
    "    ('column_dropper',\n",
    "     ColumnDropper(columns_to_drop=[\n",
    "    'date', \n",
    "    'hour',\n",
    "    'minute',\n",
    "    'second',\n",
    "    'noise_event_laeq_model_id',\n",
    "    'noise_event_laeq_primary_detected_certainty'\n",
    "    ])\n",
    "     ),\n",
    "    ('custom_encoder',\n",
    "     CustomEncoder(\n",
    "        columns=['#object_id', 'day_period', 'month', 'weekday'],\n",
    "        strategy='one_hot'\n",
    "        )\n",
    "     ),\n",
    "    ('pca',\n",
    "     PCATransformer(\n",
    "        n_components=7,\n",
    "        columns=[\n",
    "            'lamax', 'laeq', 'lceq', 'lcpeak',\n",
    "            'lamax_shift_t-_1', 'laeq_shift_t-_1', 'lceq_shift_t-_1',\n",
    "            'lcpeak_shift_t-_1', 'lamax_shift_t-_2', 'laeq_shift_t-_2',\n",
    "            'lceq_shift_t-_2', 'lcpeak_shift_t-_2', 'lamax_shift_t-_3',\n",
    "            'laeq_shift_t-_3', 'lceq_shift_t-_3', 'lcpeak_shift_t-_3',\n",
    "            'lamax_shift_t-_4', 'laeq_shift_t-_4', 'lceq_shift_t-_4',\n",
    "            'lcpeak_shift_t-_4', 'lamax_shift_t-_5', 'laeq_shift_t-_5',\n",
    "            'lceq_shift_t-_5', 'lcpeak_shift_t-_5'\n",
    "        ])\n",
    "     ),\n",
    "     ('lightgbm', LGBMClassifier(random_state=42, class_weight='balanced'))\n",
    "])"
   ]
  },
  {
   "cell_type": "code",
   "execution_count": 208,
   "metadata": {},
   "outputs": [
    {
     "data": {
      "text/plain": [
       "0.6288017743720041"
      ]
     },
     "execution_count": 208,
     "metadata": {},
     "output_type": "execute_result"
    }
   ],
   "source": [
    "cv = StratifiedKFold(n_splits=3, shuffle=True)\n",
    "scores3 = cross_val_score(pipeline, X_train, y_train, scoring='balanced_accuracy', cv=cv, error_score='raise', n_jobs=-1)\n",
    "scores3.mean()"
   ]
  },
  {
   "cell_type": "code",
   "execution_count": 209,
   "metadata": {},
   "outputs": [],
   "source": [
    "#choose the parameters\n",
    "n_estimators = np.arange(30,70,10)\n",
    "learning_rate = np.array([0.11,0.13,0.15,0.17])\n",
    "num_leaves = np.arange(18,26,2)\n",
    "min_child_samples=np.arange(10,30,5)\n",
    "eval_metric = ['mlogloss'] #'merror'\n",
    "\n",
    "params_grid = {\n",
    "    'month_handler__strategy': ['month'],#,'season'\n",
    "    'day_of_the_week_handler__strategy': ['full'],#, 'weekend'\n",
    "    'custom_encoder__strategy': ['one_hot'], #, 'binary'\n",
    "    'lightgbm__n_estimators': n_estimators,\n",
    "    'lightgbm__learning_rate': learning_rate,\n",
    "    'lightgbm__num_leaves': num_leaves,\n",
    "    'lightgbm__min_child_samples': min_child_samples,\n",
    "    'lightgbm__eval_metric': eval_metric\n",
    "}"
   ]
  },
  {
   "cell_type": "code",
   "execution_count": 210,
   "metadata": {},
   "outputs": [
    {
     "name": "stdout",
     "output_type": "stream",
     "text": [
      "[LightGBM] [Warning] Unknown parameter: eval_metric\n",
      "Best Score: 0.6429838021934451\n",
      "Best Parameters: {'month_handler__strategy': 'month', 'lightgbm__num_leaves': 22, 'lightgbm__n_estimators': 40, 'lightgbm__min_child_samples': 20, 'lightgbm__learning_rate': 0.17, 'lightgbm__eval_metric': 'mlogloss', 'day_of_the_week_handler__strategy': 'full', 'custom_encoder__strategy': 'one_hot'}\n"
     ]
    }
   ],
   "source": [
    "cv = KFold(n_splits=3)\n",
    "search = RandomizedSearchCV(pipeline, param_distributions=params_grid, n_jobs=-1, cv=cv, n_iter=200, scoring='balanced_accuracy')\n",
    "\n",
    "# Find optimal parameters\n",
    "search.fit(X_train, y_train)\n",
    "\n",
    "print(\"Best Score:\", search.best_score_)\n",
    "#print(\"Best Estimator:\", search.best_estimator_)\n",
    "print(\"Best Parameters:\", search.best_params_)"
   ]
  },
  {
   "attachments": {},
   "cell_type": "markdown",
   "metadata": {},
   "source": [
    "## Model Evaluation"
   ]
  },
  {
   "cell_type": "code",
   "execution_count": 211,
   "metadata": {},
   "outputs": [],
   "source": [
    "pipeline = Pipeline(steps=[\n",
    "    ('day_period_handler',\n",
    "     DayPeriodHandler()\n",
    "     ),\n",
    "    ('month_handler',\n",
    "     MonthHandler(strategy='month')\n",
    "     ),\n",
    "    ('day_of_the_week_handler',\n",
    "     DayoftheWeekHandler(strategy='full')\n",
    "     ),\n",
    "    ('column_dropper',\n",
    "     ColumnDropper(columns_to_drop=[\n",
    "    'date', \n",
    "    'hour',\n",
    "    'minute',\n",
    "    'second',\n",
    "    'noise_event_laeq_model_id',\n",
    "    'noise_event_laeq_primary_detected_certainty'\n",
    "    ])\n",
    "     ),\n",
    "    ('custom_encoder',\n",
    "     CustomEncoder(\n",
    "        columns=['#object_id', 'day_period', 'month', 'weekday'],\n",
    "        strategy='one_hot'\n",
    "        )\n",
    "     ),\n",
    "    ('pca',\n",
    "     PCATransformer(\n",
    "        n_components=7,\n",
    "        columns=[\n",
    "            'lamax', 'laeq', 'lceq', 'lcpeak',\n",
    "            'lamax_shift_t-_1', 'laeq_shift_t-_1', 'lceq_shift_t-_1',\n",
    "            'lcpeak_shift_t-_1', 'lamax_shift_t-_2', 'laeq_shift_t-_2',\n",
    "            'lceq_shift_t-_2', 'lcpeak_shift_t-_2', 'lamax_shift_t-_3',\n",
    "            'laeq_shift_t-_3', 'lceq_shift_t-_3', 'lcpeak_shift_t-_3',\n",
    "            'lamax_shift_t-_4', 'laeq_shift_t-_4', 'lceq_shift_t-_4',\n",
    "            'lcpeak_shift_t-_4', 'lamax_shift_t-_5', 'laeq_shift_t-_5',\n",
    "            'lceq_shift_t-_5', 'lcpeak_shift_t-_5'\n",
    "        ])\n",
    "     ),\n",
    "     ('lightgbm', LGBMClassifier(random_state=42, class_weight='balanced', num_leaves=22, n_estimators=40, min_child_samples=20, learning_rate=0.17, eval_metric='mlogloss'))\n",
    "])"
   ]
  },
  {
   "cell_type": "code",
   "execution_count": 212,
   "metadata": {},
   "outputs": [
    {
     "data": {
      "text/plain": [
       "Pipeline(steps=[('day_period_handler', DayPeriodHandler()),\n",
       "                ('month_handler', MonthHandler()),\n",
       "                ('day_of_the_week_handler', DayoftheWeekHandler()),\n",
       "                ('column_dropper',\n",
       "                 ColumnDropper(columns_to_drop=['date', 'hour', 'minute',\n",
       "                                                'second',\n",
       "                                                'noise_event_laeq_model_id',\n",
       "                                                'noise_event_laeq_primary_detected_certainty'])),\n",
       "                ('custom_encoder',\n",
       "                 CustomEncoder(columns=['#object_i...\n",
       "                                         'lamax_shift_t-_3', 'laeq_shift_t-_3',\n",
       "                                         'lceq_shift_t-_3', 'lcpeak_shift_t-_3',\n",
       "                                         'lamax_shift_t-_4', 'laeq_shift_t-_4',\n",
       "                                         'lceq_shift_t-_4', 'lcpeak_shift_t-_4',\n",
       "                                         'lamax_shift_t-_5', 'laeq_shift_t-_5',\n",
       "                                         'lceq_shift_t-_5',\n",
       "                                         'lcpeak_shift_t-_5'],\n",
       "                                n_components=7)),\n",
       "                ('lightgbm',\n",
       "                 LGBMClassifier(class_weight='balanced', eval_metric='mlogloss',\n",
       "                                learning_rate=0.17, n_estimators=40,\n",
       "                                num_leaves=22, random_state=42))])"
      ]
     },
     "execution_count": 212,
     "metadata": {},
     "output_type": "execute_result"
    }
   ],
   "source": [
    "pipeline.fit(X_train, y_train)"
   ]
  },
  {
   "cell_type": "code",
   "execution_count": 213,
   "metadata": {},
   "outputs": [],
   "source": [
    "y_pred = pipeline.predict(X_test)"
   ]
  },
  {
   "cell_type": "code",
   "execution_count": 214,
   "metadata": {},
   "outputs": [],
   "source": [
    "y_pred_proba = pipeline.predict_proba(X_test)"
   ]
  },
  {
   "cell_type": "code",
   "execution_count": 215,
   "metadata": {},
   "outputs": [
    {
     "name": "stdout",
     "output_type": "stream",
     "text": [
      "Accuracy: 0.660509279240397\n",
      "Balanced Accuracy: 0.6463312702859417\n"
     ]
    }
   ],
   "source": [
    "print('Accuracy:', accuracy_score(y_test, y_pred))\n",
    "print('Balanced Accuracy:', balanced_accuracy_score(y_test, y_pred))"
   ]
  },
  {
   "cell_type": "code",
   "execution_count": 216,
   "metadata": {},
   "outputs": [
    {
     "data": {
      "text/plain": [
       "0.8923844061048201"
      ]
     },
     "execution_count": 216,
     "metadata": {},
     "output_type": "execute_result"
    }
   ],
   "source": [
    "roc_auc_score(y_test, y_pred_proba, multi_class='ovo')"
   ]
  },
  {
   "cell_type": "code",
   "execution_count": 217,
   "metadata": {},
   "outputs": [],
   "source": [
    "cm = confusion_matrix(y_test, y_pred)\n",
    "\n",
    "# Define the class labels\n",
    "classes = list(le.classes_)\n",
    "\n",
    "cm_df = pd.DataFrame(cm,\n",
    "                     index = classes, \n",
    "                     columns = classes)"
   ]
  },
  {
   "cell_type": "code",
   "execution_count": 218,
   "metadata": {},
   "outputs": [
    {
     "data": {
      "image/png": "[encoded data removed]",
      "text/plain": [
       "<Figure size 800x600 with 2 Axes>"
      ]
     },
     "metadata": {},
     "output_type": "display_data"
    }
   ],
   "source": [
    "plt.figure(figsize=(8,6))\n",
    "ax = sns.heatmap(cm_df, annot=True, fmt='.0f')\n",
    "plt.title('Confusion Matrix')\n",
    "plt.ylabel('Actal Values')\n",
    "plt.xlabel('Predicted Values')\n",
    "\n",
    "plt.show()"
   ]
  },
  {
   "cell_type": "code",
   "execution_count": 219,
   "metadata": {},
   "outputs": [
    {
     "name": "stdout",
     "output_type": "stream",
     "text": [
      "                                precision    recall  f1-score   support\n",
      "\n",
      "        Human voice - Shouting       0.42      0.68      0.52      1671\n",
      "         Human voice - Singing       0.13      0.61      0.21       352\n",
      "                         Other       0.51      0.39      0.44      6224\n",
      "Transport road - Passenger car       0.88      0.77      0.82     14301\n",
      "        Transport road - Siren       0.34      0.77      0.47       622\n",
      "\n",
      "                      accuracy                           0.66     23170\n",
      "                     macro avg       0.45      0.65      0.49     23170\n",
      "                  weighted avg       0.72      0.66      0.68     23170\n",
      "\n"
     ]
    }
   ],
   "source": [
    "print(classification_report(y_test, y_pred, target_names=classes))"
   ]
  },
  {
   "attachments": {},
   "cell_type": "markdown",
   "metadata": {},
   "source": [
    "---\n",
    "# No certainty + F1-weighted"
   ]
  },
  {
   "cell_type": "code",
   "execution_count": 268,
   "metadata": {},
   "outputs": [],
   "source": [
    "pipeline = Pipeline(steps=[\n",
    "    ('day_period_handler',\n",
    "     DayPeriodHandler()\n",
    "     ),\n",
    "    ('month_handler',\n",
    "     MonthHandler(strategy='month')\n",
    "     ),\n",
    "    ('day_of_the_week_handler',\n",
    "     DayoftheWeekHandler(strategy='full')\n",
    "     ),\n",
    "    ('column_dropper',\n",
    "     ColumnDropper(columns_to_drop=[\n",
    "    'date', \n",
    "    'hour',\n",
    "    'minute',\n",
    "    'second',\n",
    "    'noise_event_laeq_model_id',\n",
    "    'noise_event_laeq_primary_detected_certainty'\n",
    "    ])\n",
    "     ),\n",
    "    ('custom_encoder',\n",
    "     CustomEncoder(\n",
    "        columns=['#object_id', 'day_period', 'month', 'weekday'],\n",
    "        strategy='one_hot'\n",
    "        )\n",
    "     ),\n",
    "    ('pca',\n",
    "     PCATransformer(\n",
    "        n_components=7,\n",
    "        columns=[\n",
    "            'lamax', 'laeq', 'lceq', 'lcpeak',\n",
    "            'lamax_shift_t-_1', 'laeq_shift_t-_1', 'lceq_shift_t-_1',\n",
    "            'lcpeak_shift_t-_1', 'lamax_shift_t-_2', 'laeq_shift_t-_2',\n",
    "            'lceq_shift_t-_2', 'lcpeak_shift_t-_2', 'lamax_shift_t-_3',\n",
    "            'laeq_shift_t-_3', 'lceq_shift_t-_3', 'lcpeak_shift_t-_3',\n",
    "            'lamax_shift_t-_4', 'laeq_shift_t-_4', 'lceq_shift_t-_4',\n",
    "            'lcpeak_shift_t-_4', 'lamax_shift_t-_5', 'laeq_shift_t-_5',\n",
    "            'lceq_shift_t-_5', 'lcpeak_shift_t-_5'\n",
    "        ])\n",
    "     ),\n",
    "     ('lightgbm', LGBMClassifier(random_state=42, class_weight='balanced'))\n",
    "])"
   ]
  },
  {
   "cell_type": "code",
   "execution_count": 260,
   "metadata": {},
   "outputs": [
    {
     "data": {
      "text/plain": [
       "0.7411170471158233"
      ]
     },
     "execution_count": 260,
     "metadata": {},
     "output_type": "execute_result"
    }
   ],
   "source": [
    "cv = StratifiedKFold(n_splits=3, shuffle=True)\n",
    "scores3 = cross_val_score(pipeline, X_train, y_train, scoring='f1_weighted', cv=cv, error_score='raise', n_jobs=-1)\n",
    "scores3.mean()"
   ]
  },
  {
   "cell_type": "code",
   "execution_count": 269,
   "metadata": {},
   "outputs": [],
   "source": [
    "#choose the parameters\n",
    "n_estimators = np.arange(400,700,100)\n",
    "learning_rate = np.array([0.05,0.1,0.15])\n",
    "num_leaves = np.arange(30,60,10)\n",
    "min_child_samples=np.arange(20,40,5)\n",
    "eval_metric = ['mlogloss'] #'merror'\n",
    "\n",
    "params_grid = {\n",
    "    'month_handler__strategy': ['month'],#,'season'\n",
    "    'day_of_the_week_handler__strategy': ['full'],#, 'weekend'\n",
    "    'custom_encoder__strategy': ['one_hot'],#, 'binary'\n",
    "    'lightgbm__n_estimators': n_estimators,\n",
    "    'lightgbm__learning_rate': learning_rate,\n",
    "    'lightgbm__num_leaves': num_leaves,\n",
    "    'lightgbm__min_child_samples': min_child_samples,\n",
    "    'lightgbm__eval_metric': eval_metric\n",
    "}"
   ]
  },
  {
   "cell_type": "code",
   "execution_count": 270,
   "metadata": {},
   "outputs": [
    {
     "name": "stderr",
     "output_type": "stream",
     "text": [
      "c:\\Users\\anaso\\anaconda3\\lib\\site-packages\\sklearn\\model_selection\\_search.py:292: UserWarning: The total space of parameters 108 is smaller than n_iter=400. Running 108 iterations. For exhaustive searches, use GridSearchCV.\n",
      "  warnings.warn(\n"
     ]
    },
    {
     "name": "stdout",
     "output_type": "stream",
     "text": [
      "[LightGBM] [Warning] Unknown parameter: eval_metric\n",
      "Best Score: 0.745112068613825\n",
      "Best Parameters: {'month_handler__strategy': 'month', 'lightgbm__num_leaves': 50, 'lightgbm__n_estimators': 600, 'lightgbm__min_child_samples': 25, 'lightgbm__learning_rate': 0.1, 'lightgbm__eval_metric': 'mlogloss', 'day_of_the_week_handler__strategy': 'full', 'custom_encoder__strategy': 'one_hot'}\n"
     ]
    }
   ],
   "source": [
    "cv = KFold(n_splits=3)\n",
    "search = RandomizedSearchCV(pipeline, param_distributions=params_grid, n_jobs=-1, cv=cv, n_iter=400, scoring='f1_weighted')\n",
    "\n",
    "# Find optimal parameters\n",
    "search.fit(X_train, y_train)\n",
    "\n",
    "print(\"Best Score:\", search.best_score_)\n",
    "#print(\"Best Estimator:\", search.best_estimator_)\n",
    "print(\"Best Parameters:\", search.best_params_)"
   ]
  },
  {
   "attachments": {},
   "cell_type": "markdown",
   "metadata": {},
   "source": [
    "## Model Evaluation"
   ]
  },
  {
   "cell_type": "code",
   "execution_count": 271,
   "metadata": {},
   "outputs": [],
   "source": [
    "pipeline = Pipeline(steps=[\n",
    "    ('day_period_handler',\n",
    "     DayPeriodHandler()\n",
    "     ),\n",
    "    ('month_handler',\n",
    "     MonthHandler(strategy='month')\n",
    "     ),\n",
    "    ('day_of_the_week_handler',\n",
    "     DayoftheWeekHandler(strategy='full')\n",
    "     ),\n",
    "    ('column_dropper',\n",
    "     ColumnDropper(columns_to_drop=[\n",
    "    'date', \n",
    "    'hour',\n",
    "    'minute',\n",
    "    'second',\n",
    "    'noise_event_laeq_model_id',\n",
    "    'noise_event_laeq_primary_detected_certainty'\n",
    "    ])\n",
    "     ),\n",
    "    ('custom_encoder',\n",
    "     CustomEncoder(\n",
    "        columns=['#object_id', 'day_period', 'month', 'weekday'],\n",
    "        strategy='one_hot'\n",
    "        )\n",
    "     ),\n",
    "    ('pca',\n",
    "     PCATransformer(\n",
    "        n_components=7,\n",
    "        columns=[\n",
    "            'lamax', 'laeq', 'lceq', 'lcpeak',\n",
    "            'lamax_shift_t-_1', 'laeq_shift_t-_1', 'lceq_shift_t-_1',\n",
    "            'lcpeak_shift_t-_1', 'lamax_shift_t-_2', 'laeq_shift_t-_2',\n",
    "            'lceq_shift_t-_2', 'lcpeak_shift_t-_2', 'lamax_shift_t-_3',\n",
    "            'laeq_shift_t-_3', 'lceq_shift_t-_3', 'lcpeak_shift_t-_3',\n",
    "            'lamax_shift_t-_4', 'laeq_shift_t-_4', 'lceq_shift_t-_4',\n",
    "            'lcpeak_shift_t-_4', 'lamax_shift_t-_5', 'laeq_shift_t-_5',\n",
    "            'lceq_shift_t-_5', 'lcpeak_shift_t-_5'\n",
    "        ])\n",
    "     ),\n",
    "     ('lightgbm', LGBMClassifier(random_state=42, class_weight='balanced', num_leaves=50, n_estimators=600, min_child_samples=25, learning_rate=0.1, eval_metric='mlogloss'))\n",
    "])"
   ]
  },
  {
   "cell_type": "code",
   "execution_count": 272,
   "metadata": {},
   "outputs": [
    {
     "data": {
      "text/plain": [
       "Pipeline(steps=[('day_period_handler', DayPeriodHandler()),\n",
       "                ('month_handler', MonthHandler()),\n",
       "                ('day_of_the_week_handler', DayoftheWeekHandler()),\n",
       "                ('column_dropper',\n",
       "                 ColumnDropper(columns_to_drop=['date', 'hour', 'minute',\n",
       "                                                'second',\n",
       "                                                'noise_event_laeq_model_id',\n",
       "                                                'noise_event_laeq_primary_detected_certainty'])),\n",
       "                ('custom_encoder',\n",
       "                 CustomEncoder(columns=['#object_i...\n",
       "                                         'lceq_shift_t-_3', 'lcpeak_shift_t-_3',\n",
       "                                         'lamax_shift_t-_4', 'laeq_shift_t-_4',\n",
       "                                         'lceq_shift_t-_4', 'lcpeak_shift_t-_4',\n",
       "                                         'lamax_shift_t-_5', 'laeq_shift_t-_5',\n",
       "                                         'lceq_shift_t-_5',\n",
       "                                         'lcpeak_shift_t-_5'],\n",
       "                                n_components=7)),\n",
       "                ('lightgbm',\n",
       "                 LGBMClassifier(class_weight='balanced', eval_metric='mlogloss',\n",
       "                                min_child_samples=25, n_estimators=600,\n",
       "                                num_leaves=50, random_state=42))])"
      ]
     },
     "execution_count": 272,
     "metadata": {},
     "output_type": "execute_result"
    }
   ],
   "source": [
    "pipeline.fit(X_train, y_train)"
   ]
  },
  {
   "cell_type": "code",
   "execution_count": 273,
   "metadata": {},
   "outputs": [],
   "source": [
    "y_pred = pipeline.predict(X_test)"
   ]
  },
  {
   "cell_type": "code",
   "execution_count": 274,
   "metadata": {},
   "outputs": [],
   "source": [
    "y_pred_proba = pipeline.predict_proba(X_test)"
   ]
  },
  {
   "cell_type": "code",
   "execution_count": 275,
   "metadata": {},
   "outputs": [
    {
     "name": "stdout",
     "output_type": "stream",
     "text": [
      "Accuracy: 0.7535606387570134\n",
      "Balanced Accuracy: 0.5587423521043817\n"
     ]
    }
   ],
   "source": [
    "print('Accuracy:', accuracy_score(y_test, y_pred))\n",
    "print('Balanced Accuracy:', balanced_accuracy_score(y_test, y_pred))"
   ]
  },
  {
   "cell_type": "code",
   "execution_count": 276,
   "metadata": {},
   "outputs": [
    {
     "data": {
      "text/plain": [
       "0.8787909523572381"
      ]
     },
     "execution_count": 276,
     "metadata": {},
     "output_type": "execute_result"
    }
   ],
   "source": [
    "roc_auc_score(y_test, y_pred_proba, multi_class='ovo')"
   ]
  },
  {
   "cell_type": "code",
   "execution_count": 277,
   "metadata": {},
   "outputs": [],
   "source": [
    "cm = confusion_matrix(y_test, y_pred)\n",
    "\n",
    "# Define the class labels\n",
    "classes = list(le.classes_)\n",
    "\n",
    "cm_df = pd.DataFrame(cm,\n",
    "                     index = classes, \n",
    "                     columns = classes)"
   ]
  },
  {
   "cell_type": "code",
   "execution_count": 278,
   "metadata": {},
   "outputs": [
    {
     "data": {
      "image/png": "[encoded data removed]",
      "text/plain": [
       "<Figure size 800x600 with 2 Axes>"
      ]
     },
     "metadata": {},
     "output_type": "display_data"
    }
   ],
   "source": [
    "plt.figure(figsize=(8,6))\n",
    "ax = sns.heatmap(cm_df, annot=True, fmt='.0f')\n",
    "plt.title('Confusion Matrix')\n",
    "plt.ylabel('Actal Values')\n",
    "plt.xlabel('Predicted Values')\n",
    "\n",
    "\n",
    "plt.show()"
   ]
  },
  {
   "cell_type": "code",
   "execution_count": 279,
   "metadata": {},
   "outputs": [
    {
     "name": "stdout",
     "output_type": "stream",
     "text": [
      "                                precision    recall  f1-score   support\n",
      "\n",
      "        Human voice - Shouting       0.55      0.57      0.56      1671\n",
      "         Human voice - Singing       0.45      0.16      0.24       352\n",
      "                         Other       0.58      0.62      0.60      6224\n",
      "Transport road - Passenger car       0.87      0.85      0.86     14301\n",
      "        Transport road - Siren       0.69      0.58      0.63       622\n",
      "\n",
      "                      accuracy                           0.75     23170\n",
      "                     macro avg       0.63      0.56      0.58     23170\n",
      "                  weighted avg       0.76      0.75      0.75     23170\n",
      "\n"
     ]
    }
   ],
   "source": [
    "print(classification_report(y_test, y_pred, target_names=classes))"
   ]
  },
  {
   "attachments": {},
   "cell_type": "markdown",
   "metadata": {},
   "source": [
    "---\n",
    "# Best Model"
   ]
  },
  {
   "attachments": {},
   "cell_type": "markdown",
   "metadata": {},
   "source": [
    "Model certainty + f1_weighted"
   ]
  },
  {
   "cell_type": "code",
   "execution_count": 7,
   "metadata": {},
   "outputs": [],
   "source": [
    "pipeline = Pipeline(steps=[\n",
    "    ('day_period_handler',\n",
    "     DayPeriodHandler()\n",
    "     ),\n",
    "    ('month_handler',\n",
    "     MonthHandler(strategy='month')\n",
    "     ),\n",
    "    ('day_of_the_week_handler',\n",
    "     DayoftheWeekHandler(strategy='full')\n",
    "     ),\n",
    "    ('column_dropper',\n",
    "     ColumnDropper(columns_to_drop=[\n",
    "    'date', \n",
    "    'hour',\n",
    "    'minute',\n",
    "    'second',\n",
    "    'noise_event_laeq_model_id',\n",
    "    #'noise_event_laeq_primary_detected_certainty'\n",
    "    ])\n",
    "     ),\n",
    "    ('custom_encoder',\n",
    "     CustomEncoder(\n",
    "        columns=['#object_id', 'day_period', 'month', 'weekday'],\n",
    "        strategy='one_hot')\n",
    "     ),\n",
    "    ('pca',\n",
    "     PCATransformer(\n",
    "        n_components=7,\n",
    "        columns=[\n",
    "            'lamax', 'laeq', 'lceq', 'lcpeak',\n",
    "            'lamax_shift_t-_1', 'laeq_shift_t-_1', 'lceq_shift_t-_1',\n",
    "            'lcpeak_shift_t-_1', 'lamax_shift_t-_2', 'laeq_shift_t-_2',\n",
    "            'lceq_shift_t-_2', 'lcpeak_shift_t-_2', 'lamax_shift_t-_3',\n",
    "            'laeq_shift_t-_3', 'lceq_shift_t-_3', 'lcpeak_shift_t-_3',\n",
    "            'lamax_shift_t-_4', 'laeq_shift_t-_4', 'lceq_shift_t-_4',\n",
    "            'lcpeak_shift_t-_4', 'lamax_shift_t-_5', 'laeq_shift_t-_5',\n",
    "            'lceq_shift_t-_5', 'lcpeak_shift_t-_5'\n",
    "        ])\n",
    "     ),\n",
    "     ('lightgbm', LGBMClassifier(random_state=42, class_weight='balanced', num_leaves=50, n_estimators=350, min_child_samples=30, learning_rate=0.3, eval_metric='mlogloss'))\n",
    "])"
   ]
  },
  {
   "cell_type": "code",
   "execution_count": 8,
   "metadata": {},
   "outputs": [
    {
     "name": "stdout",
     "output_type": "stream",
     "text": [
      "[LightGBM] [Warning] Unknown parameter: eval_metric\n"
     ]
    },
    {
     "data": {
      "text/plain": [
       "Pipeline(steps=[('day_period_handler', DayPeriodHandler()),\n",
       "                ('month_handler', MonthHandler()),\n",
       "                ('day_of_the_week_handler', DayoftheWeekHandler()),\n",
       "                ('column_dropper',\n",
       "                 ColumnDropper(columns_to_drop=['date', 'hour', 'minute',\n",
       "                                                'second',\n",
       "                                                'noise_event_laeq_model_id'])),\n",
       "                ('custom_encoder',\n",
       "                 CustomEncoder(columns=['#object_id', 'day_period', 'month',\n",
       "                                        'weekday'])),\n",
       "                ('pca',\n",
       "                 PC...\n",
       "                                         'lceq_shift_t-_3', 'lcpeak_shift_t-_3',\n",
       "                                         'lamax_shift_t-_4', 'laeq_shift_t-_4',\n",
       "                                         'lceq_shift_t-_4', 'lcpeak_shift_t-_4',\n",
       "                                         'lamax_shift_t-_5', 'laeq_shift_t-_5',\n",
       "                                         'lceq_shift_t-_5',\n",
       "                                         'lcpeak_shift_t-_5'],\n",
       "                                n_components=7)),\n",
       "                ('lightgbm',\n",
       "                 LGBMClassifier(class_weight='balanced', eval_metric='mlogloss',\n",
       "                                learning_rate=0.3, min_child_samples=30,\n",
       "                                n_estimators=350, num_leaves=50,\n",
       "                                random_state=42))])"
      ]
     },
     "execution_count": 8,
     "metadata": {},
     "output_type": "execute_result"
    }
   ],
   "source": [
    "pipeline.fit(X_train, y_train)"
   ]
  },
  {
   "attachments": {},
   "cell_type": "markdown",
   "metadata": {},
   "source": [
    "Save the tuned and trained model with pickle"
   ]
  },
  {
   "cell_type": "code",
   "execution_count": 9,
   "metadata": {},
   "outputs": [],
   "source": [
    "filename = 'best_model.sav'\n",
    "pickle.dump(pipeline, open(filename, 'wb'))"
   ]
  },
  {
   "attachments": {},
   "cell_type": "markdown",
   "metadata": {},
   "source": [
    "Choose a sample of the test set for predictions in the app\n"
   ]
  },
  {
   "cell_type": "code",
   "execution_count": null,
   "metadata": {},
   "outputs": [],
   "source": [
    "percentage = 0.25  # Change this to the desired percentage (e.g., 0.25 for 25%)\n",
    "sampled_df = X_test.sample(frac=percentage, random_state=42)\n",
    "sampled_df.to_csv('sampled_data.csv', index=False)"
   ]
  }
 ],
 "metadata": {
  "kernelspec": {
   "display_name": "base",
   "language": "python",
   "name": "python3"
  },
  "language_info": {
   "codemirror_mode": {
    "name": "ipython",
    "version": 3
   },
   "file_extension": ".py",
   "mimetype": "text/x-python",
   "name": "python",
   "nbconvert_exporter": "python",
   "pygments_lexer": "ipython3",
   "version": "3.9.13"
  },
  "orig_nbformat": 4
 },
 "nbformat": 4,
 "nbformat_minor": 2
}
