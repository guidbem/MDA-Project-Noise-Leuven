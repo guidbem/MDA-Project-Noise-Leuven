{
 "cells": [
  {
   "cell_type": "code",
   "execution_count": null,
   "metadata": {},
   "outputs": [],
   "source": [
    "from sklearn.pipeline import Pipeline, make_pipeline\n",
    "from sklearn.model_selection import train_test_split, KFold, cross_val_score, StratifiedKFold, GridSearchCV, RandomizedSearchCV\n",
    "from lightgbm import LGBMClassifier\n",
    "from sklearn.preprocessing import FunctionTransformer\n",
    "from sklearn.metrics import accuracy_score\n",
    "import pandas as pd\n",
    "import numpy as np\n",
    "from pprint import pprint\n",
    "from skopt import BayesSearchCV\n",
    "from skopt.space import Real, Integer\n",
    "from utils.datatransforms import *"
   ]
  },
  {
   "cell_type": "code",
   "execution_count": null,
   "metadata": {},
   "outputs": [],
   "source": [
    "df = pd.read_parquet('pred_model_data_full.parquet')"
   ]
  },
  {
   "cell_type": "code",
   "execution_count": null,
   "metadata": {},
   "outputs": [],
   "source": [
    "X = df.drop(columns=['noise_event_laeq_primary_detected_class'])\n",
    "\n",
    "le = LabelEncoder()\n",
    "y = le.fit_transform(df[['noise_event_laeq_primary_detected_class']])\n",
    "\n",
    "X_train, X_val, y_train, y_val = train_test_split(X, y, train_size=0.7, random_state=1)"
   ]
  },
  {
   "cell_type": "code",
   "execution_count": null,
   "metadata": {},
   "outputs": [],
   "source": [
    "pipeline = Pipeline(steps=[\n",
    "    ('day_period_handler',\n",
    "     DayPeriodHandler()\n",
    "     ),\n",
    "    ('month_handler',\n",
    "     MonthHandler()\n",
    "     ),\n",
    "    ('day_of_the_week_handler',\n",
    "     DayoftheWeekHandler()\n",
    "     ),\n",
    "    ('column_dropper',\n",
    "     ColumnDropper(columns_to_drop=[\n",
    "    'date', \n",
    "    'hour',\n",
    "    'minute',\n",
    "    'second',\n",
    "    'noise_event_laeq_model_id',\n",
    "    'noise_event_laeq_primary_detected_certainty'])\n",
    "     ),\n",
    "    ('custom_encoder',\n",
    "     CustomEncoder(\n",
    "        columns=['#object_id', 'day_period', 'month', 'weekday'],\n",
    "        strategy='one_hot')\n",
    "     ),\n",
    "    ('pca',\n",
    "     PCATransformer(\n",
    "        n_components=7,\n",
    "        columns=[\n",
    "            'lamax', 'laeq', 'lceq', 'lcpeak',\n",
    "            'lamax_shift_t-_1', 'laeq_shift_t-_1', 'lceq_shift_t-_1',\n",
    "            'lcpeak_shift_t-_1', 'lamax_shift_t-_2', 'laeq_shift_t-_2',\n",
    "            'lceq_shift_t-_2', 'lcpeak_shift_t-_2', 'lamax_shift_t-_3',\n",
    "            'laeq_shift_t-_3', 'lceq_shift_t-_3', 'lcpeak_shift_t-_3',\n",
    "            'lamax_shift_t-_4', 'laeq_shift_t-_4', 'lceq_shift_t-_4',\n",
    "            'lcpeak_shift_t-_4', 'lamax_shift_t-_5', 'laeq_shift_t-_5',\n",
    "            'lceq_shift_t-_5', 'lcpeak_shift_t-_5'\n",
    "        ])\n",
    "     ),\n",
    "     ('lightgbm', LGBMClassifier(random_state=42))\n",
    "])"
   ]
  },
  {
   "cell_type": "code",
   "execution_count": null,
   "metadata": {},
   "outputs": [],
   "source": [
    "cv = StratifiedKFold(n_splits=5, shuffle=True)\n",
    "scores3 = cross_val_score(pipeline, X, y, scoring='accuracy', cv=cv, error_score='raise', n_jobs=-1)\n",
    "scores3"
   ]
  },
  {
   "cell_type": "code",
   "execution_count": null,
   "metadata": {},
   "outputs": [],
   "source": [
    "#choose the parameters\n",
    "n_estimators = Integer(1, 200)\n",
    "learning_rate = Real(0.0001, 0.5)\n",
    "num_leaves = Integer(2, 50)\n",
    "max_depth = Integer(-1, 50)\n",
    "min_data_in_leaf = Integer(0, 50)\n",
    "bagging_fraction = Real(0.0001, 0.1)\n",
    "lambda_l1 = Real(0.0001, 0.5)\n",
    "lambda_l2 = Real(0.0001, 0.5)\n",
    "max_bin = Integer(100, 400)\n",
    "\n",
    "params_grid = {\n",
    "    'month_handler__strategy': ['month','season'],\n",
    "    'day_of_the_week_handler__strategy': ['full', 'weekend'],\n",
    "    'lightgbm__n_estimators': n_estimators,\n",
    "    'lightgbm__learning_rate': learning_rate,\n",
    "    'lightgbm__num_leaves': num_leaves,\n",
    "    'lightgbm__max_depth': max_depth,\n",
    "    'lightgbm__min_data_in_leaf': min_data_in_leaf,\n",
    "    'lightgbm__bagging_fraction': bagging_fraction,\n",
    "    'lightgbm__lambda_l1': lambda_l1,\n",
    "    'lightgbm__lambda_l2': lambda_l2,\n",
    "    'lightgbm__max_bin': max_bin,\n",
    "}"
   ]
  },
  {
   "cell_type": "code",
   "execution_count": null,
   "metadata": {},
   "outputs": [],
   "source": [
    "cv = KFold(n_splits=10)\n",
    "search = RandomizedSearchCV(pipeline, param_distributions=params_grid, n_jobs=-1, cv=cv, n_iter=100, scoring='accuracy')\n",
    "\n",
    "# Find optimal parameters\n",
    "search.fit(X, y)\n",
    "\n",
    "print(\"Best Score:\", search.best_score_)\n",
    "print(\"Best Estimator:\", search.best_estimator_)\n",
    "print(\"Best Parameters:\", search.best_params_)"
   ]
  }
 ],
 "metadata": {
  "language_info": {
   "name": "python"
  },
  "orig_nbformat": 4
 },
 "nbformat": 4,
 "nbformat_minor": 2
}
