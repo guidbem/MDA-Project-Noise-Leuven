{
 "cells": [
  {
   "cell_type": "code",
   "execution_count": 1,
   "metadata": {},
   "outputs": [],
   "source": [
    "import sys\n",
    "import os\n",
    "\n",
    "utils_path = os.path.abspath('..')\n",
    "sys.path.append(utils_path)"
   ]
  },
  {
   "attachments": {},
   "cell_type": "markdown",
   "metadata": {},
   "source": [
    "# LightGBM \n",
    "\n",
    "This notebook will be used to tune and evaluate the LightGBM model.\n",
    "\n",
    "We will tune the model hyperparameters using crossvalidation and considering two different scores: balanced_accuracy and f1_weighted."
   ]
  },
  {
   "cell_type": "code",
   "execution_count": 2,
   "metadata": {},
   "outputs": [],
   "source": [
    "from sklearn.pipeline import Pipeline\n",
    "from sklearn.model_selection import train_test_split, KFold, cross_val_score, StratifiedKFold, RandomizedSearchCV\n",
    "from lightgbm import LGBMClassifier\n",
    "from sklearn.metrics import accuracy_score, confusion_matrix, roc_auc_score, classification_report, balanced_accuracy_score\n",
    "import pandas as pd\n",
    "import numpy as np\n",
    "import seaborn as sns\n",
    "import matplotlib.pyplot as plt\n",
    "from utils.model_datatransforms import *"
   ]
  },
  {
   "attachments": {},
   "cell_type": "markdown",
   "metadata": {},
   "source": [
    "---\n",
    "## Data Loading"
   ]
  },
  {
   "cell_type": "code",
   "execution_count": 4,
   "metadata": {},
   "outputs": [],
   "source": [
    "df = pd.read_parquet('../data/pred_model_data_full.parquet')"
   ]
  },
  {
   "cell_type": "code",
   "execution_count": 18,
   "metadata": {},
   "outputs": [
    {
     "data": {
      "text/plain": [
       "Transport road - Passenger car    47386\n",
       "Unsupported                       20791\n",
       "Human voice - Shouting             5742\n",
       "Transport road - Siren             1992\n",
       "Human voice - Singing              1082\n",
       "Music non-amplified                 126\n",
       "Nature elements - Wind              113\n",
       "Name: noise_event_laeq_primary_detected_class, dtype: int64"
      ]
     },
     "execution_count": 18,
     "metadata": {},
     "output_type": "execute_result"
    }
   ],
   "source": [
    "df.noise_event_laeq_primary_detected_class.value_counts()"
   ]
  },
  {
   "attachments": {},
   "cell_type": "markdown",
   "metadata": {},
   "source": [
    "Since we have fewer observations for 'Music non-amplified' and 'Nature elements - Wind', and that the level of certainty that these observations are being correctly classified is lower than for the other classes, we will join these classes to 'Unsupported' and call the new class 'Other'"
   ]
  },
  {
   "cell_type": "code",
   "execution_count": 5,
   "metadata": {},
   "outputs": [
    {
     "data": {
      "text/plain": [
       "noise_event_laeq_primary_detected_class\n",
       "Transport road - Passenger car    47386\n",
       "Other                             21030\n",
       "Human voice - Shouting             5742\n",
       "Transport road - Siren             1992\n",
       "Human voice - Singing              1082\n",
       "Name: count, dtype: int64"
      ]
     },
     "execution_count": 5,
     "metadata": {},
     "output_type": "execute_result"
    }
   ],
   "source": [
    "conditions = df['noise_event_laeq_primary_detected_class'].isin(['Music non-amplified', 'Nature elements - Wind', 'Unsupported'])\n",
    "df.loc[conditions, 'noise_event_laeq_primary_detected_class'] = 'Other'\n",
    "\n",
    "df.noise_event_laeq_primary_detected_class.value_counts()"
   ]
  },
  {
   "attachments": {},
   "cell_type": "markdown",
   "metadata": {},
   "source": [
    "Create train and test sets"
   ]
  },
  {
   "cell_type": "code",
   "execution_count": 6,
   "metadata": {},
   "outputs": [
    {
     "name": "stderr",
     "output_type": "stream",
     "text": [
      "c:\\Users\\guibl\\MDA-Project\\.venv\\lib\\site-packages\\sklearn\\preprocessing\\_label.py:115: DataConversionWarning: A column-vector y was passed when a 1d array was expected. Please change the shape of y to (n_samples, ), for example using ravel().\n",
      "  y = column_or_1d(y, warn=True)\n"
     ]
    }
   ],
   "source": [
    "X = df.drop(columns=['noise_event_laeq_primary_detected_class']) \n",
    "\n",
    "le = LabelEncoder()\n",
    "y = le.fit_transform(df[['noise_event_laeq_primary_detected_class']])\n",
    "\n",
    "X_train, X_test, y_train, y_test = train_test_split(X, y, train_size=0.7, random_state=1)"
   ]
  },
  {
   "attachments": {},
   "cell_type": "markdown",
   "metadata": {},
   "source": [
    "--- \n",
    "# balanced_accuracy"
   ]
  },
  {
   "cell_type": "code",
   "execution_count": 7,
   "metadata": {},
   "outputs": [],
   "source": [
    "pipeline = Pipeline(steps=[\n",
    "    ('day_period_handler',\n",
    "     DayPeriodHandler()\n",
    "     ),\n",
    "    ('month_handler',\n",
    "     MonthHandler()\n",
    "     ),\n",
    "    ('day_of_the_week_handler',\n",
    "     DayoftheWeekHandler()\n",
    "     ),\n",
    "    ('column_dropper',\n",
    "     ColumnDropper(columns_to_drop=[\n",
    "    'date', \n",
    "    'hour',\n",
    "    'minute',\n",
    "    'second',\n",
    "    'noise_event_laeq_model_id',\n",
    "    'noise_event_laeq_primary_detected_certainty'\n",
    "    ])\n",
    "     ),\n",
    "    ('custom_encoder',\n",
    "     CustomEncoder(\n",
    "        columns=['#object_id', 'day_period', 'month', 'weekday'],\n",
    "        strategy='one_hot'\n",
    "        )\n",
    "     ),\n",
    "    ('pca',\n",
    "     PCATransformer(\n",
    "        n_components=7,\n",
    "        columns=[\n",
    "            'lamax', 'laeq', 'lceq', 'lcpeak',\n",
    "            'lamax_shift_t-_1', 'laeq_shift_t-_1', 'lceq_shift_t-_1',\n",
    "            'lcpeak_shift_t-_1', 'lamax_shift_t-_2', 'laeq_shift_t-_2',\n",
    "            'lceq_shift_t-_2', 'lcpeak_shift_t-_2', 'lamax_shift_t-_3',\n",
    "            'laeq_shift_t-_3', 'lceq_shift_t-_3', 'lcpeak_shift_t-_3',\n",
    "            'lamax_shift_t-_4', 'laeq_shift_t-_4', 'lceq_shift_t-_4',\n",
    "            'lcpeak_shift_t-_4', 'lamax_shift_t-_5', 'laeq_shift_t-_5',\n",
    "            'lceq_shift_t-_5', 'lcpeak_shift_t-_5'\n",
    "        ])\n",
    "     ),\n",
    "     ('lightgbm', LGBMClassifier(random_state=42, class_weight='balanced'))\n",
    "])"
   ]
  },
  {
   "cell_type": "code",
   "execution_count": 8,
   "metadata": {},
   "outputs": [
    {
     "data": {
      "text/plain": [
       "0.6344706851935045"
      ]
     },
     "execution_count": 8,
     "metadata": {},
     "output_type": "execute_result"
    }
   ],
   "source": [
    "cv = StratifiedKFold(n_splits=3, shuffle=True)\n",
    "scores3 = cross_val_score(pipeline, X_train, y_train, scoring='balanced_accuracy', cv=cv, error_score='raise', n_jobs=-1)\n",
    "scores3.mean()"
   ]
  },
  {
   "attachments": {},
   "cell_type": "markdown",
   "metadata": {},
   "source": [
    "Hyperparameter tuning"
   ]
  },
  {
   "cell_type": "code",
   "execution_count": 151,
   "metadata": {},
   "outputs": [],
   "source": [
    "#choose the parameters\n",
    "n_estimators = np.arange(50,100,10)\n",
    "learning_rate = np.array([0.06,0.08,0.1,0.12])\n",
    "num_leaves = np.arange(20,40,5)\n",
    "min_child_samples=np.arange(8,15,3)\n",
    "\n",
    "params_grid = {\n",
    "    'month_handler__strategy': ['month','season'],  \n",
    "    'day_of_the_week_handler__strategy': ['full','weekend'],  \n",
    "    'custom_encoder__strategy': ['one_hot', 'binary'],\n",
    "    'lightgbm__n_estimators': n_estimators,\n",
    "    'lightgbm__learning_rate': learning_rate,\n",
    "    'lightgbm__num_leaves': num_leaves,\n",
    "    'lightgbm__min_child_samples': min_child_samples\n",
    "}"
   ]
  },
  {
   "cell_type": "code",
   "execution_count": 152,
   "metadata": {},
   "outputs": [
    {
     "name": "stdout",
     "output_type": "stream",
     "text": [
      "Best Score: 0.6416150378495377\n",
      "Best Parameters: {'month_handler__strategy': 'month', 'lightgbm__num_leaves': 25, 'lightgbm__n_estimators': 80, 'lightgbm__min_child_samples': 11, 'lightgbm__learning_rate': 0.06, 'day_of_the_week_handler__strategy': 'full', 'custom_encoder__strategy': 'one_hot'}\n"
     ]
    }
   ],
   "source": [
    "cv = KFold(n_splits=3)\n",
    "search = RandomizedSearchCV(pipeline, param_distributions=params_grid, n_jobs=-1, cv=cv, n_iter=150, scoring='balanced_accuracy')\n",
    "\n",
    "# Find optimal parameters\n",
    "search.fit(X_train, y_train)\n",
    "\n",
    "print(\"Best Score:\", search.best_score_)\n",
    "print(\"Best Parameters:\", search.best_params_)"
   ]
  },
  {
   "attachments": {},
   "cell_type": "markdown",
   "metadata": {},
   "source": [
    "## Model Evaluation"
   ]
  },
  {
   "attachments": {},
   "cell_type": "markdown",
   "metadata": {},
   "source": [
    "We include in the pipeline the best hyperparameters obtained"
   ]
  },
  {
   "cell_type": "code",
   "execution_count": 21,
   "metadata": {},
   "outputs": [],
   "source": [
    "pipeline = Pipeline(steps=[\n",
    "    ('day_period_handler',\n",
    "     DayPeriodHandler()\n",
    "     ),\n",
    "    ('month_handler',\n",
    "     MonthHandler(strategy='month')\n",
    "     ),\n",
    "    ('day_of_the_week_handler',\n",
    "     DayoftheWeekHandler(strategy='full')\n",
    "     ),\n",
    "    ('column_dropper',\n",
    "     ColumnDropper(columns_to_drop=[\n",
    "    'date', \n",
    "    'hour',\n",
    "    'minute',\n",
    "    'second',\n",
    "    'noise_event_laeq_model_id',\n",
    "    'noise_event_laeq_primary_detected_certainty'\n",
    "    ])\n",
    "     ),\n",
    "    ('custom_encoder',\n",
    "     CustomEncoder(\n",
    "        columns=['#object_id', 'day_period', 'month', 'weekday'],\n",
    "        strategy='one_hot'\n",
    "        )\n",
    "     ),\n",
    "    ('pca',\n",
    "     PCATransformer(\n",
    "        n_components=7,\n",
    "        columns=[\n",
    "            'lamax', 'laeq', 'lceq', 'lcpeak',\n",
    "            'lamax_shift_t-_1', 'laeq_shift_t-_1', 'lceq_shift_t-_1',\n",
    "            'lcpeak_shift_t-_1', 'lamax_shift_t-_2', 'laeq_shift_t-_2',\n",
    "            'lceq_shift_t-_2', 'lcpeak_shift_t-_2', 'lamax_shift_t-_3',\n",
    "            'laeq_shift_t-_3', 'lceq_shift_t-_3', 'lcpeak_shift_t-_3',\n",
    "            'lamax_shift_t-_4', 'laeq_shift_t-_4', 'lceq_shift_t-_4',\n",
    "            'lcpeak_shift_t-_4', 'lamax_shift_t-_5', 'laeq_shift_t-_5',\n",
    "            'lceq_shift_t-_5', 'lcpeak_shift_t-_5'\n",
    "        ])\n",
    "     ),\n",
    "     ('lightgbm', LGBMClassifier(random_state=42, class_weight='balanced', num_leaves=25, n_estimators=80, min_child_samples=11, learning_rate=0.06))\n",
    "])"
   ]
  },
  {
   "cell_type": "code",
   "execution_count": 22,
   "metadata": {},
   "outputs": [
    {
     "data": {
      "text/plain": [
       "Pipeline(steps=[('day_period_handler', DayPeriodHandler()),\n",
       "                ('month_handler', MonthHandler()),\n",
       "                ('day_of_the_week_handler', DayoftheWeekHandler()),\n",
       "                ('column_dropper',\n",
       "                 ColumnDropper(columns_to_drop=['date', 'hour', 'minute',\n",
       "                                                'second',\n",
       "                                                'noise_event_laeq_model_id',\n",
       "                                                'noise_event_laeq_primary_detected_certainty'])),\n",
       "                ('custom_encoder',\n",
       "                 CustomEncoder(columns=['#object_i...\n",
       "                                         'lamax_shift_t-_3', 'laeq_shift_t-_3',\n",
       "                                         'lceq_shift_t-_3', 'lcpeak_shift_t-_3',\n",
       "                                         'lamax_shift_t-_4', 'laeq_shift_t-_4',\n",
       "                                         'lceq_shift_t-_4', 'lcpeak_shift_t-_4',\n",
       "                                         'lamax_shift_t-_5', 'laeq_shift_t-_5',\n",
       "                                         'lceq_shift_t-_5',\n",
       "                                         'lcpeak_shift_t-_5'],\n",
       "                                n_components=7)),\n",
       "                ('lightgbm',\n",
       "                 LGBMClassifier(class_weight='balanced', learning_rate=0.06,\n",
       "                                min_child_samples=11, n_estimators=80,\n",
       "                                num_leaves=25, random_state=42))])"
      ]
     },
     "execution_count": 22,
     "metadata": {},
     "output_type": "execute_result"
    }
   ],
   "source": [
    "pipeline.fit(X_train, y_train)"
   ]
  },
  {
   "cell_type": "code",
   "execution_count": 23,
   "metadata": {},
   "outputs": [],
   "source": [
    "y_pred = pipeline.predict(X_test)"
   ]
  },
  {
   "cell_type": "code",
   "execution_count": 24,
   "metadata": {},
   "outputs": [],
   "source": [
    "y_pred_proba = pipeline.predict_proba(X_test)"
   ]
  },
  {
   "attachments": {},
   "cell_type": "markdown",
   "metadata": {},
   "source": [
    "Obtain accuracy and balanced accuracy scores"
   ]
  },
  {
   "cell_type": "code",
   "execution_count": 25,
   "metadata": {},
   "outputs": [
    {
     "name": "stdout",
     "output_type": "stream",
     "text": [
      "Accuracy: 0.653992231333621\n",
      "Balanced Accuracy: 0.6426044630763984\n"
     ]
    }
   ],
   "source": [
    "print('Accuracy:', accuracy_score(y_test, y_pred))\n",
    "print('Balanced Accuracy:', balanced_accuracy_score(y_test, y_pred))"
   ]
  },
  {
   "cell_type": "code",
   "execution_count": 26,
   "metadata": {},
   "outputs": [
    {
     "data": {
      "text/plain": [
       "0.8796634929214975"
      ]
     },
     "execution_count": 26,
     "metadata": {},
     "output_type": "execute_result"
    }
   ],
   "source": [
    "roc_auc_score(y_test, y_pred_proba, multi_class='ovr')"
   ]
  },
  {
   "attachments": {},
   "cell_type": "markdown",
   "metadata": {},
   "source": [
    "Compute confusion matrix"
   ]
  },
  {
   "cell_type": "code",
   "execution_count": 27,
   "metadata": {},
   "outputs": [],
   "source": [
    "cm = confusion_matrix(y_test, y_pred)\n",
    "\n",
    "# Define the class labels\n",
    "classes = list(le.classes_)\n",
    "\n",
    "cm_df = pd.DataFrame(cm,\n",
    "                     index = classes, \n",
    "                     columns = classes)"
   ]
  },
  {
   "cell_type": "code",
   "execution_count": 28,
   "metadata": {},
   "outputs": [
    {
     "data": {
      "image/png": "[encoded data removed]",
      "text/plain": [
       "<Figure size 800x600 with 2 Axes>"
      ]
     },
     "metadata": {},
     "output_type": "display_data"
    }
   ],
   "source": [
    "plt.figure(figsize=(8,6))\n",
    "ax = sns.heatmap(cm_df, annot=True, fmt='.0f')\n",
    "plt.title('Confusion Matrix')\n",
    "plt.ylabel('Actual Values')\n",
    "plt.xlabel('Predicted Values')\n",
    "\n",
    "plt.show()"
   ]
  },
  {
   "attachments": {},
   "cell_type": "markdown",
   "metadata": {},
   "source": [
    "Classification report"
   ]
  },
  {
   "cell_type": "code",
   "execution_count": 29,
   "metadata": {},
   "outputs": [
    {
     "name": "stdout",
     "output_type": "stream",
     "text": [
      "                                precision    recall  f1-score   support\n",
      "\n",
      "        Human voice - Shouting       0.41      0.68      0.51      1671\n",
      "         Human voice - Singing       0.12      0.62      0.20       352\n",
      "                         Other       0.51      0.37      0.43      6224\n",
      "Transport road - Passenger car       0.88      0.77      0.82     14301\n",
      "        Transport road - Siren       0.33      0.77      0.47       622\n",
      "\n",
      "                      accuracy                           0.65     23170\n",
      "                     macro avg       0.45      0.64      0.49     23170\n",
      "                  weighted avg       0.72      0.65      0.67     23170\n",
      "\n"
     ]
    }
   ],
   "source": [
    "print(classification_report(y_test, y_pred, target_names=classes))"
   ]
  },
  {
   "attachments": {},
   "cell_type": "markdown",
   "metadata": {},
   "source": [
    "---\n",
    "# F1-weighted"
   ]
  },
  {
   "cell_type": "code",
   "execution_count": 163,
   "metadata": {},
   "outputs": [],
   "source": [
    "pipeline = Pipeline(steps=[\n",
    "    ('day_period_handler',\n",
    "     DayPeriodHandler()\n",
    "     ),\n",
    "    ('month_handler',\n",
    "     MonthHandler()\n",
    "     ),\n",
    "    ('day_of_the_week_handler',\n",
    "     DayoftheWeekHandler()\n",
    "     ),\n",
    "    ('column_dropper',\n",
    "     ColumnDropper(columns_to_drop=[\n",
    "    'date', \n",
    "    'hour',\n",
    "    'minute',\n",
    "    'second',\n",
    "    'noise_event_laeq_model_id',\n",
    "    'noise_event_laeq_primary_detected_certainty'\n",
    "    ])\n",
    "     ),\n",
    "    ('custom_encoder',\n",
    "     CustomEncoder(\n",
    "        columns=['#object_id', 'day_period', 'month', 'weekday'],\n",
    "        )\n",
    "     ),\n",
    "    ('pca',\n",
    "     PCATransformer(\n",
    "        n_components=7,\n",
    "        columns=[\n",
    "            'lamax', 'laeq', 'lceq', 'lcpeak',\n",
    "            'lamax_shift_t-_1', 'laeq_shift_t-_1', 'lceq_shift_t-_1',\n",
    "            'lcpeak_shift_t-_1', 'lamax_shift_t-_2', 'laeq_shift_t-_2',\n",
    "            'lceq_shift_t-_2', 'lcpeak_shift_t-_2', 'lamax_shift_t-_3',\n",
    "            'laeq_shift_t-_3', 'lceq_shift_t-_3', 'lcpeak_shift_t-_3',\n",
    "            'lamax_shift_t-_4', 'laeq_shift_t-_4', 'lceq_shift_t-_4',\n",
    "            'lcpeak_shift_t-_4', 'lamax_shift_t-_5', 'laeq_shift_t-_5',\n",
    "            'lceq_shift_t-_5', 'lcpeak_shift_t-_5'\n",
    "        ])\n",
    "     ),\n",
    "     ('lightgbm', LGBMClassifier(random_state=42, class_weight='balanced'))\n",
    "])"
   ]
  },
  {
   "cell_type": "code",
   "execution_count": 164,
   "metadata": {},
   "outputs": [
    {
     "data": {
      "text/plain": [
       "0.7067790941223517"
      ]
     },
     "execution_count": 164,
     "metadata": {},
     "output_type": "execute_result"
    }
   ],
   "source": [
    "cv = StratifiedKFold(n_splits=3, shuffle=True)\n",
    "scores3 = cross_val_score(pipeline, X_train, y_train, scoring='f1_weighted', cv=cv, error_score='raise', n_jobs=-1)\n",
    "scores3.mean()"
   ]
  },
  {
   "attachments": {},
   "cell_type": "markdown",
   "metadata": {},
   "source": [
    "Hyperparameter tuning"
   ]
  },
  {
   "cell_type": "code",
   "execution_count": 166,
   "metadata": {},
   "outputs": [],
   "source": [
    "#choose the parameters\n",
    "n_estimators = np.arange(300,700,100)\n",
    "learning_rate = np.array([0.05,0.1,0.15])\n",
    "num_leaves = np.arange(20,60,10)\n",
    "min_child_samples=np.arange(15,35,5)\n",
    "\n",
    "params_grid = {\n",
    "    'month_handler__strategy': ['month','season'],\n",
    "    'day_of_the_week_handler__strategy': ['full','weekend'],\n",
    "    'custom_encoder__strategy': ['one_hot','binary'],\n",
    "    'lightgbm__n_estimators': n_estimators,\n",
    "    'lightgbm__learning_rate': learning_rate,\n",
    "    'lightgbm__num_leaves': num_leaves,\n",
    "    'lightgbm__min_child_samples': min_child_samples\n",
    "}"
   ]
  },
  {
   "cell_type": "code",
   "execution_count": 167,
   "metadata": {},
   "outputs": [
    {
     "name": "stdout",
     "output_type": "stream",
     "text": [
      "Best Score: 0.7450432451230316\n",
      "Best Parameters: {'month_handler__strategy': 'month', 'lightgbm__num_leaves': 50, 'lightgbm__n_estimators': 500, 'lightgbm__min_child_samples': 15, 'lightgbm__learning_rate': 0.1, 'day_of_the_week_handler__strategy': 'full', 'custom_encoder__strategy': 'one_hot'}\n"
     ]
    }
   ],
   "source": [
    "cv = KFold(n_splits=3)\n",
    "search = RandomizedSearchCV(pipeline, param_distributions=params_grid, n_jobs=-1, cv=cv, n_iter=150, scoring='f1_weighted')\n",
    "\n",
    "# Find optimal parameters\n",
    "search.fit(X_train, y_train)\n",
    "\n",
    "print(\"Best Score:\", search.best_score_)\n",
    "print(\"Best Parameters:\", search.best_params_)"
   ]
  },
  {
   "attachments": {},
   "cell_type": "markdown",
   "metadata": {},
   "source": [
    "## Model Evaluation"
   ]
  },
  {
   "attachments": {},
   "cell_type": "markdown",
   "metadata": {},
   "source": [
    "We include in the pipeline the best hyperparameters obtained"
   ]
  },
  {
   "cell_type": "code",
   "execution_count": 12,
   "metadata": {},
   "outputs": [],
   "source": [
    "pipeline = Pipeline(steps=[\n",
    "    ('day_period_handler',\n",
    "     DayPeriodHandler()\n",
    "     ),\n",
    "    ('month_handler',\n",
    "     MonthHandler(strategy='month')\n",
    "     ),\n",
    "    ('day_of_the_week_handler',\n",
    "     DayoftheWeekHandler(strategy='full')\n",
    "     ),\n",
    "    ('column_dropper',\n",
    "     ColumnDropper(columns_to_drop=[\n",
    "    'date', \n",
    "    'hour',\n",
    "    'minute',\n",
    "    'second',\n",
    "    'noise_event_laeq_model_id',\n",
    "    'noise_event_laeq_primary_detected_certainty'\n",
    "    ])\n",
    "     ),\n",
    "    ('custom_encoder',\n",
    "     CustomEncoder(\n",
    "        columns=['#object_id', 'day_period', 'month', 'weekday'],\n",
    "        strategy='one_hot'\n",
    "        )\n",
    "     ),\n",
    "    ('pca',\n",
    "     PCATransformer(\n",
    "        n_components=7,\n",
    "        columns=[\n",
    "            'lamax', 'laeq', 'lceq', 'lcpeak',\n",
    "            'lamax_shift_t-_1', 'laeq_shift_t-_1', 'lceq_shift_t-_1',\n",
    "            'lcpeak_shift_t-_1', 'lamax_shift_t-_2', 'laeq_shift_t-_2',\n",
    "            'lceq_shift_t-_2', 'lcpeak_shift_t-_2', 'lamax_shift_t-_3',\n",
    "            'laeq_shift_t-_3', 'lceq_shift_t-_3', 'lcpeak_shift_t-_3',\n",
    "            'lamax_shift_t-_4', 'laeq_shift_t-_4', 'lceq_shift_t-_4',\n",
    "            'lcpeak_shift_t-_4', 'lamax_shift_t-_5', 'laeq_shift_t-_5',\n",
    "            'lceq_shift_t-_5', 'lcpeak_shift_t-_5'\n",
    "        ])\n",
    "     ),\n",
    "     ('lightgbm', LGBMClassifier(random_state=42, class_weight='balanced', num_leaves=50, n_estimators=500, min_child_samples=15, learning_rate=0.1))\n",
    "])"
   ]
  },
  {
   "cell_type": "code",
   "execution_count": 13,
   "metadata": {},
   "outputs": [
    {
     "data": {
      "text/plain": [
       "Pipeline(steps=[('day_period_handler', DayPeriodHandler()),\n",
       "                ('month_handler', MonthHandler()),\n",
       "                ('day_of_the_week_handler', DayoftheWeekHandler()),\n",
       "                ('column_dropper',\n",
       "                 ColumnDropper(columns_to_drop=['date', 'hour', 'minute',\n",
       "                                                'second',\n",
       "                                                'noise_event_laeq_model_id',\n",
       "                                                'noise_event_laeq_primary_detected_certainty'])),\n",
       "                ('custom_encoder',\n",
       "                 CustomEncoder(columns=['#object_i...\n",
       "                                         'lamax_shift_t-_3', 'laeq_shift_t-_3',\n",
       "                                         'lceq_shift_t-_3', 'lcpeak_shift_t-_3',\n",
       "                                         'lamax_shift_t-_4', 'laeq_shift_t-_4',\n",
       "                                         'lceq_shift_t-_4', 'lcpeak_shift_t-_4',\n",
       "                                         'lamax_shift_t-_5', 'laeq_shift_t-_5',\n",
       "                                         'lceq_shift_t-_5',\n",
       "                                         'lcpeak_shift_t-_5'],\n",
       "                                n_components=7)),\n",
       "                ('lightgbm',\n",
       "                 LGBMClassifier(class_weight='balanced', min_child_samples=15,\n",
       "                                n_estimators=500, num_leaves=50,\n",
       "                                random_state=42))])"
      ]
     },
     "execution_count": 13,
     "metadata": {},
     "output_type": "execute_result"
    }
   ],
   "source": [
    "pipeline.fit(X_train, y_train)"
   ]
  },
  {
   "cell_type": "code",
   "execution_count": 170,
   "metadata": {},
   "outputs": [],
   "source": [
    "y_pred = pipeline.predict(X_test)"
   ]
  },
  {
   "cell_type": "code",
   "execution_count": 14,
   "metadata": {},
   "outputs": [],
   "source": [
    "y_pred_proba = pipeline.predict_proba(X_test)"
   ]
  },
  {
   "attachments": {},
   "cell_type": "markdown",
   "metadata": {},
   "source": [
    "Obtain accuracy and balanced accuracy scores"
   ]
  },
  {
   "cell_type": "code",
   "execution_count": 172,
   "metadata": {},
   "outputs": [
    {
     "name": "stdout",
     "output_type": "stream",
     "text": [
      "Accuracy: 0.7499352611135088\n",
      "Balanced Accuracy: 0.5597973217820698\n"
     ]
    }
   ],
   "source": [
    "print('Accuracy:', accuracy_score(y_test, y_pred))\n",
    "print('Balanced Accuracy:', balanced_accuracy_score(y_test, y_pred))"
   ]
  },
  {
   "cell_type": "code",
   "execution_count": 15,
   "metadata": {},
   "outputs": [
    {
     "data": {
      "text/plain": [
       "0.9059254617848506"
      ]
     },
     "execution_count": 15,
     "metadata": {},
     "output_type": "execute_result"
    }
   ],
   "source": [
    "roc_auc_score(y_test, y_pred_proba, multi_class='ovr')"
   ]
  },
  {
   "attachments": {},
   "cell_type": "markdown",
   "metadata": {},
   "source": [
    "Confusion matrix"
   ]
  },
  {
   "cell_type": "code",
   "execution_count": 174,
   "metadata": {},
   "outputs": [],
   "source": [
    "cm = confusion_matrix(y_test, y_pred)\n",
    "\n",
    "# Define the class labels\n",
    "classes = list(le.classes_)\n",
    "\n",
    "cm_df = pd.DataFrame(cm,\n",
    "                     index = classes, \n",
    "                     columns = classes)"
   ]
  },
  {
   "cell_type": "code",
   "execution_count": 175,
   "metadata": {},
   "outputs": [
    {
     "data": {
      "image/png": "[encoded data removed]",
      "text/plain": [
       "<Figure size 800x600 with 2 Axes>"
      ]
     },
     "metadata": {},
     "output_type": "display_data"
    }
   ],
   "source": [
    "plt.figure(figsize=(8,6))\n",
    "ax = sns.heatmap(cm_df, annot=True, fmt='.0f')\n",
    "plt.title('Confusion Matrix')\n",
    "plt.ylabel('Actual Values')\n",
    "plt.xlabel('Predicted Values')\n",
    "\n",
    "plt.show()"
   ]
  },
  {
   "attachments": {},
   "cell_type": "markdown",
   "metadata": {},
   "source": [
    "Classification report"
   ]
  },
  {
   "cell_type": "code",
   "execution_count": 176,
   "metadata": {},
   "outputs": [
    {
     "name": "stdout",
     "output_type": "stream",
     "text": [
      "                                precision    recall  f1-score   support\n",
      "\n",
      "        Human voice - Shouting       0.53      0.58      0.56      1671\n",
      "         Human voice - Singing       0.43      0.17      0.24       352\n",
      "                         Other       0.58      0.62      0.60      6224\n",
      "Transport road - Passenger car       0.87      0.85      0.86     14301\n",
      "        Transport road - Siren       0.66      0.59      0.62       622\n",
      "\n",
      "                      accuracy                           0.75     23170\n",
      "                     macro avg       0.61      0.56      0.57     23170\n",
      "                  weighted avg       0.75      0.75      0.75     23170\n",
      "\n"
     ]
    }
   ],
   "source": [
    "print(classification_report(y_test, y_pred, target_names=classes))"
   ]
  }
 ],
 "metadata": {
  "kernelspec": {
   "display_name": "base",
   "language": "python",
   "name": "python3"
  },
  "language_info": {
   "codemirror_mode": {
    "name": "ipython",
    "version": 3
   },
   "file_extension": ".py",
   "mimetype": "text/x-python",
   "name": "python",
   "nbconvert_exporter": "python",
   "pygments_lexer": "ipython3",
   "version": "3.10.9"
  },
  "orig_nbformat": 4
 },
 "nbformat": 4,
 "nbformat_minor": 2
}
