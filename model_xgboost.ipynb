{
 "cells": [
  {
   "cell_type": "code",
   "execution_count": 1,
   "metadata": {},
   "outputs": [],
   "source": [
    "from sklearn.pipeline import Pipeline, make_pipeline\n",
    "from sklearn.model_selection import train_test_split, KFold, cross_val_score, StratifiedKFold, GridSearchCV, RandomizedSearchCV\n",
    "from xgboost import XGBClassifier\n",
    "from sklearn.preprocessing import FunctionTransformer\n",
    "from sklearn.metrics import accuracy_score\n",
    "from sklearn.utils.class_weight import compute_class_weight\n",
    "import pandas as pd\n",
    "import numpy as np\n",
    "from pprint import pprint\n",
    "from skopt import BayesSearchCV\n",
    "from skopt.space import Real, Integer\n",
    "from utils.model_datatransforms import *"
   ]
  },
  {
   "cell_type": "code",
   "execution_count": 2,
   "metadata": {},
   "outputs": [],
   "source": [
    "df = pd.read_parquet('pred_model_data_full.parquet')"
   ]
  },
  {
   "cell_type": "code",
   "execution_count": 3,
   "metadata": {},
   "outputs": [
    {
     "data": {
      "text/plain": [
       "Transport road - Passenger car    47386\n",
       "Unsupported                       20791\n",
       "Human voice - Shouting             5742\n",
       "Transport road - Siren             1992\n",
       "Human voice - Singing              1082\n",
       "Music non-amplified                 126\n",
       "Nature elements - Wind              113\n",
       "Name: noise_event_laeq_primary_detected_class, dtype: int64"
      ]
     },
     "execution_count": 3,
     "metadata": {},
     "output_type": "execute_result"
    }
   ],
   "source": [
    "df.noise_event_laeq_primary_detected_class.value_counts()"
   ]
  },
  {
   "cell_type": "code",
   "execution_count": 4,
   "metadata": {},
   "outputs": [],
   "source": [
    "categories_to_drop = ['Unsupported'] #'Music non-amplified', 'Nature elements - Wind',\n",
    "df = df[~df['noise_event_laeq_primary_detected_class'].isin(categories_to_drop)]"
   ]
  },
  {
   "cell_type": "code",
   "execution_count": 5,
   "metadata": {},
   "outputs": [
    {
     "data": {
      "text/plain": [
       "Transport road - Passenger car    47386\n",
       "Human voice - Shouting             5742\n",
       "Transport road - Siren             1992\n",
       "Human voice - Singing              1082\n",
       "Name: noise_event_laeq_primary_detected_class, dtype: int64"
      ]
     },
     "execution_count": 5,
     "metadata": {},
     "output_type": "execute_result"
    }
   ],
   "source": [
    "df.noise_event_laeq_primary_detected_class.value_counts()"
   ]
  },
  {
   "cell_type": "code",
   "execution_count": 6,
   "metadata": {},
   "outputs": [
    {
     "name": "stderr",
     "output_type": "stream",
     "text": [
      "c:\\Users\\anaso\\anaconda3\\lib\\site-packages\\sklearn\\preprocessing\\_label.py:115: DataConversionWarning: A column-vector y was passed when a 1d array was expected. Please change the shape of y to (n_samples, ), for example using ravel().\n",
      "  y = column_or_1d(y, warn=True)\n"
     ]
    }
   ],
   "source": [
    "X = df.drop(columns=['noise_event_laeq_primary_detected_class'])\n",
    "\n",
    "le = LabelEncoder()\n",
    "y = le.fit_transform(df[['noise_event_laeq_primary_detected_class']])\n",
    "\n",
    "X_train, X_val, y_train, y_val = train_test_split(X, y, train_size=0.7, random_state=1)"
   ]
  },
  {
   "cell_type": "code",
   "execution_count": 7,
   "metadata": {},
   "outputs": [],
   "source": [
    "class_weights = compute_class_weight('balanced', classes=np.unique(y_train), y=y_train)"
   ]
  },
  {
   "cell_type": "code",
   "execution_count": 12,
   "metadata": {},
   "outputs": [],
   "source": [
    "pipeline = Pipeline(steps=[\n",
    "    ('day_period_handler',\n",
    "     DayPeriodHandler()\n",
    "     ),\n",
    "    ('month_handler',\n",
    "     MonthHandler()\n",
    "     ),\n",
    "    ('day_of_the_week_handler',\n",
    "     DayoftheWeekHandler()\n",
    "     ),\n",
    "    ('column_dropper',\n",
    "     ColumnDropper(columns_to_drop=[\n",
    "    'date', \n",
    "    'hour',\n",
    "    'minute',\n",
    "    'second',\n",
    "    'noise_event_laeq_model_id',\n",
    "    'noise_event_laeq_primary_detected_certainty'])\n",
    "     ),\n",
    "    ('custom_encoder',\n",
    "     CustomEncoder(\n",
    "        columns=['#object_id', 'day_period', 'month', 'weekday'],\n",
    "        strategy='one_hot')\n",
    "     ),\n",
    "    ('pca',\n",
    "     PCATransformer(\n",
    "        n_components=7,\n",
    "        columns=[\n",
    "            'lamax', 'laeq', 'lceq', 'lcpeak',\n",
    "            'lamax_shift_t-_1', 'laeq_shift_t-_1', 'lceq_shift_t-_1',\n",
    "            'lcpeak_shift_t-_1', 'lamax_shift_t-_2', 'laeq_shift_t-_2',\n",
    "            'lceq_shift_t-_2', 'lcpeak_shift_t-_2', 'lamax_shift_t-_3',\n",
    "            'laeq_shift_t-_3', 'lceq_shift_t-_3', 'lcpeak_shift_t-_3',\n",
    "            'lamax_shift_t-_4', 'laeq_shift_t-_4', 'lceq_shift_t-_4',\n",
    "            'lcpeak_shift_t-_4', 'lamax_shift_t-_5', 'laeq_shift_t-_5',\n",
    "            'lceq_shift_t-_5', 'lcpeak_shift_t-_5'\n",
    "        ])\n",
    "     ),\n",
    "     ('xgb', XGBClassifier(random_state=42, scale_pos_weights=class_weights, n_estimators=300, learning_rate=0.3, max_depth=10,eval_metric='mlogloss'))\n",
    "])"
   ]
  },
  {
   "cell_type": "code",
   "execution_count": 13,
   "metadata": {},
   "outputs": [
    {
     "data": {
      "text/plain": [
       "0.6249117669935607"
      ]
     },
     "execution_count": 13,
     "metadata": {},
     "output_type": "execute_result"
    }
   ],
   "source": [
    "cv = StratifiedKFold(n_splits=3, shuffle=True)\n",
    "scores3 = cross_val_score(pipeline, X_train, y_train, scoring='balanced_accuracy', cv=cv, error_score='raise', n_jobs=-1)\n",
    "scores3.mean()"
   ]
  },
  {
   "cell_type": "code",
   "execution_count": null,
   "metadata": {},
   "outputs": [],
   "source": [
    "#choose parameters\n",
    "n_estimators = np.arange(290,315,5)\n",
    "learning_rate = np.array([0.01,0.05,0.1,0.3])\n",
    "max_depth = np.arange(3,7)\n",
    "eval_metric = ['mlogloss','merror']\n",
    "\n",
    "random_grid = {\n",
    "    # Parameters that we are going to tune\n",
    "    'month_handler__strategy': ['month','season'],\n",
    "    'day_of_the_week_handler__strategy': ['full', 'weekend'],\n",
    "    'xgb__n_estimators': n_estimators,\n",
    "    'xgb__learning_rate': learning_rate,\n",
    "    'xgb__max_depth': max_depth,\n",
    "    'xgb__eval_metric': eval_metric\n",
    "}"
   ]
  },
  {
   "cell_type": "code",
   "execution_count": null,
   "metadata": {},
   "outputs": [],
   "source": [
    "cv = StratifiedKFold(n_splits=3, shuffle=True)\n",
    "search = RandomizedSearchCV(pipeline, param_distributions=random_grid, n_jobs=-1, cv=cv, n_iter=100, verbose=0, scoring='balanced_accuracy')\n",
    "\n",
    "# Find optimal parameters\n",
    "search.fit(X_train, y_train)\n",
    "\n",
    "print(\"Best Score:\", search.best_score_)\n",
    "print(\"Best Estimator:\", search.best_estimator_)\n",
    "print(\"Best Parameters:\", search.best_params_)"
   ]
  },
  {
   "attachments": {},
   "cell_type": "markdown",
   "metadata": {},
   "source": [
    "Notes: \n",
    "- XGBClassifier(random_state=42, scale_pos_weights=class_weights, n_estimators=300, learning_rate=0.1, max_depth=5) ---- array([0.75594313, 0.75536047, 0.75539932])"
   ]
  }
 ],
 "metadata": {
  "kernelspec": {
   "display_name": "base",
   "language": "python",
   "name": "python3"
  },
  "language_info": {
   "codemirror_mode": {
    "name": "ipython",
    "version": 3
   },
   "file_extension": ".py",
   "mimetype": "text/x-python",
   "name": "python",
   "nbconvert_exporter": "python",
   "pygments_lexer": "ipython3",
   "version": "3.9.13"
  },
  "orig_nbformat": 4
 },
 "nbformat": 4,
 "nbformat_minor": 2
}
