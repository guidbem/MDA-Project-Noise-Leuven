{
 "cells": [
  {
   "attachments": {},
   "cell_type": "markdown",
   "metadata": {},
   "source": [
    "# Random Forest"
   ]
  },
  {
   "attachments": {},
   "cell_type": "markdown",
   "metadata": {},
   "source": [
    "This notebook will be used to tune and evaluate the Random Forest model"
   ]
  },
  {
   "cell_type": "code",
   "execution_count": 1,
   "metadata": {},
   "outputs": [],
   "source": [
    "from sklearn.pipeline import Pipeline, make_pipeline\n",
    "from sklearn.model_selection import train_test_split, KFold, cross_val_score, StratifiedKFold, GridSearchCV, RandomizedSearchCV\n",
    "from sklearn.ensemble import RandomForestClassifier\n",
    "from sklearn.preprocessing import FunctionTransformer\n",
    "from sklearn.metrics import accuracy_score, confusion_matrix, roc_auc_score, classification_report, balanced_accuracy_score\n",
    "import pandas as pd\n",
    "import numpy as np\n",
    "import seaborn as sns\n",
    "import matplotlib.pyplot as plt\n",
    "from pprint import pprint\n",
    "from skopt import BayesSearchCV\n",
    "from skopt.space import Real, Integer\n",
    "from utils.model_datatransforms import *"
   ]
  },
  {
   "attachments": {},
   "cell_type": "markdown",
   "metadata": {},
   "source": [
    "---\n",
    "# Data Loading"
   ]
  },
  {
   "cell_type": "code",
   "execution_count": 2,
   "metadata": {},
   "outputs": [],
   "source": [
    "df = pd.read_parquet('pred_model_data_full.parquet')"
   ]
  },
  {
   "cell_type": "code",
   "execution_count": 3,
   "metadata": {},
   "outputs": [
    {
     "data": {
      "text/plain": [
       "Transport road - Passenger car    47386\n",
       "Unsupported                       20791\n",
       "Human voice - Shouting             5742\n",
       "Transport road - Siren             1992\n",
       "Human voice - Singing              1082\n",
       "Music non-amplified                 126\n",
       "Nature elements - Wind              113\n",
       "Name: noise_event_laeq_primary_detected_class, dtype: int64"
      ]
     },
     "execution_count": 3,
     "metadata": {},
     "output_type": "execute_result"
    }
   ],
   "source": [
    "df.noise_event_laeq_primary_detected_class.value_counts()"
   ]
  },
  {
   "cell_type": "code",
   "execution_count": 4,
   "metadata": {},
   "outputs": [
    {
     "data": {
      "text/plain": [
       "Transport road - Passenger car    47386\n",
       "Other                             21030\n",
       "Human voice - Shouting             5742\n",
       "Transport road - Siren             1992\n",
       "Human voice - Singing              1082\n",
       "Name: noise_event_laeq_primary_detected_class, dtype: int64"
      ]
     },
     "execution_count": 4,
     "metadata": {},
     "output_type": "execute_result"
    }
   ],
   "source": [
    "conditions = df['noise_event_laeq_primary_detected_class'].isin(['Music non-amplified', 'Nature elements - Wind', 'Unsupported'])\n",
    "df.loc[conditions, 'noise_event_laeq_primary_detected_class'] = 'Other'\n",
    "\n",
    "df.noise_event_laeq_primary_detected_class.value_counts()"
   ]
  },
  {
   "cell_type": "code",
   "execution_count": 5,
   "metadata": {},
   "outputs": [
    {
     "name": "stderr",
     "output_type": "stream",
     "text": [
      "c:\\Users\\anaso\\anaconda3\\lib\\site-packages\\sklearn\\preprocessing\\_label.py:115: DataConversionWarning: A column-vector y was passed when a 1d array was expected. Please change the shape of y to (n_samples, ), for example using ravel().\n",
      "  y = column_or_1d(y, warn=True)\n"
     ]
    }
   ],
   "source": [
    "X = df.drop(columns=['noise_event_laeq_primary_detected_class'])\n",
    "\n",
    "le = LabelEncoder()\n",
    "y = le.fit_transform(df[['noise_event_laeq_primary_detected_class']])\n",
    "\n",
    "X_train, X_test, y_train, y_test = train_test_split(X, y, train_size=0.7, random_state=1)"
   ]
  },
  {
   "attachments": {},
   "cell_type": "markdown",
   "metadata": {},
   "source": [
    "Convert 'noise_event_laeq_primary_detected_certainty' to values between 0 and 1"
   ]
  },
  {
   "cell_type": "code",
   "execution_count": 6,
   "metadata": {},
   "outputs": [
    {
     "data": {
      "text/plain": [
       "0        0.97\n",
       "1        0.78\n",
       "2        0.98\n",
       "3        1.00\n",
       "4        1.00\n",
       "         ... \n",
       "77227    0.96\n",
       "77228    0.98\n",
       "77229    0.85\n",
       "77230    0.00\n",
       "77231    0.00\n",
       "Name: noise_event_laeq_primary_detected_certainty, Length: 77232, dtype: float64"
      ]
     },
     "execution_count": 6,
     "metadata": {},
     "output_type": "execute_result"
    }
   ],
   "source": [
    "X['noise_event_laeq_primary_detected_certainty']=X['noise_event_laeq_primary_detected_certainty']/100\n",
    "X.noise_event_laeq_primary_detected_certainty"
   ]
  },
  {
   "attachments": {},
   "cell_type": "markdown",
   "metadata": {},
   "source": [
    "---\n",
    "# Certainty + balanced_accuracy"
   ]
  },
  {
   "cell_type": "code",
   "execution_count": 7,
   "metadata": {},
   "outputs": [],
   "source": [
    "pipeline = Pipeline(steps=[\n",
    "    ('day_period_handler',\n",
    "     DayPeriodHandler()\n",
    "     ),\n",
    "    ('month_handler',\n",
    "     MonthHandler()\n",
    "     ),\n",
    "    ('day_of_the_week_handler',\n",
    "     DayoftheWeekHandler()\n",
    "     ),\n",
    "    ('column_dropper',\n",
    "     ColumnDropper(columns_to_drop=[\n",
    "    'date', \n",
    "    'hour',\n",
    "    'minute',\n",
    "    'second',\n",
    "    'noise_event_laeq_model_id',\n",
    "    #'noise_event_laeq_primary_detected_certainty'\n",
    "    ])\n",
    "     ),\n",
    "    ('custom_encoder',\n",
    "     CustomEncoder(\n",
    "        columns=['#object_id', 'day_period', 'month', 'weekday'])\n",
    "     ),\n",
    "    ('pca',\n",
    "     PCATransformer(\n",
    "        n_components=7,\n",
    "        columns=[\n",
    "            'lamax', 'laeq', 'lceq', 'lcpeak',\n",
    "            'lamax_shift_t-_1', 'laeq_shift_t-_1', 'lceq_shift_t-_1',\n",
    "            'lcpeak_shift_t-_1', 'lamax_shift_t-_2', 'laeq_shift_t-_2',\n",
    "            'lceq_shift_t-_2', 'lcpeak_shift_t-_2', 'lamax_shift_t-_3',\n",
    "            'laeq_shift_t-_3', 'lceq_shift_t-_3', 'lcpeak_shift_t-_3',\n",
    "            'lamax_shift_t-_4', 'laeq_shift_t-_4', 'lceq_shift_t-_4',\n",
    "            'lcpeak_shift_t-_4', 'lamax_shift_t-_5', 'laeq_shift_t-_5',\n",
    "            'lceq_shift_t-_5', 'lcpeak_shift_t-_5'\n",
    "        ])\n",
    "     ),\n",
    "     ('randomForest', RandomForestClassifier(random_state=42, class_weight='balanced', n_estimators=300, min_samples_split=60, max_depth=15, ccp_alpha=1e-7))\n",
    "])"
   ]
  },
  {
   "cell_type": "code",
   "execution_count": 8,
   "metadata": {},
   "outputs": [
    {
     "data": {
      "text/plain": [
       "0.804665298511666"
      ]
     },
     "execution_count": 8,
     "metadata": {},
     "output_type": "execute_result"
    }
   ],
   "source": [
    "cv = StratifiedKFold(n_splits=3, shuffle=True)\n",
    "scores3 = cross_val_score(pipeline, X_train, y_train, scoring='balanced_accuracy', cv=cv, error_score='raise', n_jobs=-1)\n",
    "scores3.mean()"
   ]
  },
  {
   "cell_type": "code",
   "execution_count": 9,
   "metadata": {},
   "outputs": [],
   "source": [
    "n_estimators = np.arange(300, 400, 50) # number of trees in the random forest\n",
    "max_depth = np.arange(10,19,3) # maximum number of levels allowed in each decision tree\n",
    "min_samples_split = np.arange(50,65,5) # minimum sample number to split a node\n",
    "ccp_alpha = np.array([1e-7, 1e-5, 1e-3])\n",
    "\n",
    "random_grid = {\n",
    "    'month_handler__strategy': ['month'], #'season'\n",
    "    'day_of_the_week_handler__strategy': ['full'], #'weekend'\n",
    "     'custom_encoder__strategy': ['one_hot'], #, 'binary'\n",
    "    'randomForest__n_estimators': n_estimators,\n",
    "    'randomForest__max_depth': max_depth,\n",
    "    'randomForest__min_samples_split': min_samples_split,\n",
    "    'randomForest__ccp_alpha': ccp_alpha   \n",
    "}"
   ]
  },
  {
   "cell_type": "code",
   "execution_count": 10,
   "metadata": {},
   "outputs": [
    {
     "name": "stderr",
     "output_type": "stream",
     "text": [
      "c:\\Users\\anaso\\anaconda3\\lib\\site-packages\\sklearn\\model_selection\\_search.py:292: UserWarning: The total space of parameters 54 is smaller than n_iter=600. Running 54 iterations. For exhaustive searches, use GridSearchCV.\n",
      "  warnings.warn(\n"
     ]
    },
    {
     "name": "stdout",
     "output_type": "stream",
     "text": [
      "Best Score: 0.8051737288523219\n",
      "Best Parameters: {'randomForest__n_estimators': 350, 'randomForest__min_samples_split': 50, 'randomForest__max_depth': 13, 'randomForest__ccp_alpha': 1e-07, 'month_handler__strategy': 'month', 'day_of_the_week_handler__strategy': 'full', 'custom_encoder__strategy': 'one_hot'}\n"
     ]
    }
   ],
   "source": [
    "cv = StratifiedKFold(n_splits=3, shuffle=True)\n",
    "search = RandomizedSearchCV(pipeline, param_distributions=random_grid, n_jobs=-1, cv=cv, n_iter=600, scoring='balanced_accuracy')\n",
    "\n",
    "# Find optimal parameters\n",
    "search.fit(X_train, y_train)\n",
    "\n",
    "print(\"Best Score:\", search.best_score_)\n",
    "#print(\"Best Estimator:\", search.best_estimator_)\n",
    "print(\"Best Parameters:\", search.best_params_)"
   ]
  },
  {
   "attachments": {},
   "cell_type": "markdown",
   "metadata": {},
   "source": [
    "## Model Evaluation"
   ]
  },
  {
   "cell_type": "code",
   "execution_count": 11,
   "metadata": {},
   "outputs": [],
   "source": [
    "pipeline = Pipeline(steps=[\n",
    "    ('day_period_handler',\n",
    "     DayPeriodHandler()\n",
    "     ),\n",
    "    ('month_handler',\n",
    "     MonthHandler()\n",
    "     ),\n",
    "    ('day_of_the_week_handler',\n",
    "     DayoftheWeekHandler()\n",
    "     ),\n",
    "    ('column_dropper',\n",
    "     ColumnDropper(columns_to_drop=[\n",
    "    'date', \n",
    "    'hour',\n",
    "    'minute',\n",
    "    'second',\n",
    "    'noise_event_laeq_model_id',\n",
    "    #'noise_event_laeq_primary_detected_certainty'\n",
    "    ])\n",
    "     ),\n",
    "    ('custom_encoder',\n",
    "     CustomEncoder(\n",
    "        columns=['#object_id', 'day_period', 'month', 'weekday'])\n",
    "     ),\n",
    "    ('pca',\n",
    "     PCATransformer(\n",
    "        n_components=7,\n",
    "        columns=[\n",
    "            'lamax', 'laeq', 'lceq', 'lcpeak',\n",
    "            'lamax_shift_t-_1', 'laeq_shift_t-_1', 'lceq_shift_t-_1',\n",
    "            'lcpeak_shift_t-_1', 'lamax_shift_t-_2', 'laeq_shift_t-_2',\n",
    "            'lceq_shift_t-_2', 'lcpeak_shift_t-_2', 'lamax_shift_t-_3',\n",
    "            'laeq_shift_t-_3', 'lceq_shift_t-_3', 'lcpeak_shift_t-_3',\n",
    "            'lamax_shift_t-_4', 'laeq_shift_t-_4', 'lceq_shift_t-_4',\n",
    "            'lcpeak_shift_t-_4', 'lamax_shift_t-_5', 'laeq_shift_t-_5',\n",
    "            'lceq_shift_t-_5', 'lcpeak_shift_t-_5'\n",
    "        ])\n",
    "     ),\n",
    "     ('randomForest', RandomForestClassifier(random_state=42, class_weight='balanced', n_estimators=350, min_samples_split=50, max_depth=13, ccp_alpha=1e-07))\n",
    "])"
   ]
  },
  {
   "cell_type": "code",
   "execution_count": 12,
   "metadata": {},
   "outputs": [
    {
     "data": {
      "text/plain": [
       "Pipeline(steps=[('day_period_handler', DayPeriodHandler()),\n",
       "                ('month_handler', MonthHandler()),\n",
       "                ('day_of_the_week_handler', DayoftheWeekHandler()),\n",
       "                ('column_dropper',\n",
       "                 ColumnDropper(columns_to_drop=['date', 'hour', 'minute',\n",
       "                                                'second',\n",
       "                                                'noise_event_laeq_model_id'])),\n",
       "                ('custom_encoder',\n",
       "                 CustomEncoder(columns=['#object_id', 'day_period', 'month',\n",
       "                                        'weekday'])),\n",
       "                ('pca',\n",
       "                 PC...\n",
       "                                         'lceq_shift_t-_3', 'lcpeak_shift_t-_3',\n",
       "                                         'lamax_shift_t-_4', 'laeq_shift_t-_4',\n",
       "                                         'lceq_shift_t-_4', 'lcpeak_shift_t-_4',\n",
       "                                         'lamax_shift_t-_5', 'laeq_shift_t-_5',\n",
       "                                         'lceq_shift_t-_5',\n",
       "                                         'lcpeak_shift_t-_5'],\n",
       "                                n_components=7)),\n",
       "                ('randomForest',\n",
       "                 RandomForestClassifier(ccp_alpha=1e-07,\n",
       "                                        class_weight='balanced', max_depth=13,\n",
       "                                        min_samples_split=50, n_estimators=350,\n",
       "                                        random_state=42))])"
      ]
     },
     "execution_count": 12,
     "metadata": {},
     "output_type": "execute_result"
    }
   ],
   "source": [
    "pipeline.fit(X_train, y_train)"
   ]
  },
  {
   "cell_type": "code",
   "execution_count": 13,
   "metadata": {},
   "outputs": [],
   "source": [
    "y_pred = pipeline.predict(X_test)"
   ]
  },
  {
   "cell_type": "code",
   "execution_count": 14,
   "metadata": {},
   "outputs": [],
   "source": [
    "y_pred_proba = pipeline.predict_proba(X_test)"
   ]
  },
  {
   "cell_type": "code",
   "execution_count": 15,
   "metadata": {},
   "outputs": [
    {
     "name": "stdout",
     "output_type": "stream",
     "text": [
      "Accuracy: 0.905783340526543\n",
      "Balanced Accuracy: 0.802027993522216\n"
     ]
    }
   ],
   "source": [
    "print('Accuracy:', accuracy_score(y_test, y_pred))\n",
    "print('Balanced Accuracy:', balanced_accuracy_score(y_test, y_pred))"
   ]
  },
  {
   "cell_type": "code",
   "execution_count": 16,
   "metadata": {},
   "outputs": [
    {
     "data": {
      "text/plain": [
       "0.9638472452527542"
      ]
     },
     "execution_count": 16,
     "metadata": {},
     "output_type": "execute_result"
    }
   ],
   "source": [
    "roc_auc_score(y_test, y_pred_proba, multi_class='ovo')"
   ]
  },
  {
   "cell_type": "code",
   "execution_count": 17,
   "metadata": {},
   "outputs": [],
   "source": [
    "cm = confusion_matrix(y_test, y_pred)\n",
    "\n",
    "# Define the class labels\n",
    "classes = list(le.classes_)\n",
    "\n",
    "cm_df = pd.DataFrame(cm,\n",
    "                     index = classes, \n",
    "                     columns = classes)"
   ]
  },
  {
   "cell_type": "code",
   "execution_count": 18,
   "metadata": {},
   "outputs": [
    {
     "data": {
      "image/png": "[encoded data removed]",
      "text/plain": [
       "<Figure size 800x600 with 2 Axes>"
      ]
     },
     "metadata": {},
     "output_type": "display_data"
    }
   ],
   "source": [
    "plt.figure(figsize=(8,6))\n",
    "ax = sns.heatmap(cm_df, annot=True, fmt='.0f')\n",
    "plt.title('Confusion Matrix')\n",
    "plt.ylabel('Actal Values')\n",
    "plt.xlabel('Predicted Values')\n",
    "\n",
    "plt.show()"
   ]
  },
  {
   "cell_type": "code",
   "execution_count": 19,
   "metadata": {},
   "outputs": [
    {
     "name": "stdout",
     "output_type": "stream",
     "text": [
      "                                precision    recall  f1-score   support\n",
      "\n",
      "        Human voice - Shouting       0.59      0.78      0.68      1671\n",
      "         Human voice - Singing       0.27      0.60      0.37       352\n",
      "                         Other       1.00      0.99      1.00      6224\n",
      "Transport road - Passenger car       0.98      0.90      0.94     14301\n",
      "        Transport road - Siren       0.50      0.74      0.60       622\n",
      "\n",
      "                      accuracy                           0.91     23170\n",
      "                     macro avg       0.67      0.80      0.72     23170\n",
      "                  weighted avg       0.93      0.91      0.92     23170\n",
      "\n"
     ]
    }
   ],
   "source": [
    "print(classification_report(y_test, y_pred, target_names=classes))"
   ]
  },
  {
   "attachments": {},
   "cell_type": "markdown",
   "metadata": {},
   "source": [
    "---\n",
    "# Certainty + f1_weighted"
   ]
  },
  {
   "cell_type": "code",
   "execution_count": 52,
   "metadata": {},
   "outputs": [],
   "source": [
    "pipeline = Pipeline(steps=[\n",
    "    ('day_period_handler',\n",
    "     DayPeriodHandler()\n",
    "     ),\n",
    "    ('month_handler',\n",
    "     MonthHandler()\n",
    "     ),\n",
    "    ('day_of_the_week_handler',\n",
    "     DayoftheWeekHandler()\n",
    "     ),\n",
    "    ('column_dropper',\n",
    "     ColumnDropper(columns_to_drop=[\n",
    "    'date', \n",
    "    'hour',\n",
    "    'minute',\n",
    "    'second',\n",
    "    'noise_event_laeq_model_id',\n",
    "    #'noise_event_laeq_primary_detected_certainty'\n",
    "    ])\n",
    "     ),\n",
    "    ('custom_encoder',\n",
    "     CustomEncoder(\n",
    "        columns=['#object_id', 'day_period', 'month', 'weekday'])\n",
    "     ),\n",
    "    ('pca',\n",
    "     PCATransformer(\n",
    "        n_components=7,\n",
    "        columns=[\n",
    "            'lamax', 'laeq', 'lceq', 'lcpeak',\n",
    "            'lamax_shift_t-_1', 'laeq_shift_t-_1', 'lceq_shift_t-_1',\n",
    "            'lcpeak_shift_t-_1', 'lamax_shift_t-_2', 'laeq_shift_t-_2',\n",
    "            'lceq_shift_t-_2', 'lcpeak_shift_t-_2', 'lamax_shift_t-_3',\n",
    "            'laeq_shift_t-_3', 'lceq_shift_t-_3', 'lcpeak_shift_t-_3',\n",
    "            'lamax_shift_t-_4', 'laeq_shift_t-_4', 'lceq_shift_t-_4',\n",
    "            'lcpeak_shift_t-_4', 'lamax_shift_t-_5', 'laeq_shift_t-_5',\n",
    "            'lceq_shift_t-_5', 'lcpeak_shift_t-_5'\n",
    "        ])\n",
    "     ),\n",
    "     ('randomForest', RandomForestClassifier(random_state=42, class_weight='balanced', n_estimators=400, min_samples_split=20, max_depth=20, ccp_alpha=1e-13))\n",
    "])"
   ]
  },
  {
   "cell_type": "code",
   "execution_count": 53,
   "metadata": {},
   "outputs": [
    {
     "data": {
      "text/plain": [
       "0.9405759267574693"
      ]
     },
     "execution_count": 53,
     "metadata": {},
     "output_type": "execute_result"
    }
   ],
   "source": [
    "cv = StratifiedKFold(n_splits=3, shuffle=True)\n",
    "scores3 = cross_val_score(pipeline, X_train, y_train, scoring='f1_weighted', cv=cv, error_score='raise', n_jobs=-1)\n",
    "scores3.mean()"
   ]
  },
  {
   "cell_type": "code",
   "execution_count": 54,
   "metadata": {},
   "outputs": [],
   "source": [
    "n_estimators = np.arange(400, 550, 50) # number of trees in the random forest\n",
    "max_depth = np.arange(17,25,3) # maximum number of levels allowed in each decision tree\n",
    "min_samples_split = np.arange(15,30,5) # minimum sample number to split a node\n",
    "ccp_alpha = np.array([0, 1e-13, 1e-11])\n",
    "\n",
    "random_grid = {\n",
    "    'month_handler__strategy': ['month'], #'season'\n",
    "    'day_of_the_week_handler__strategy': ['full'], #'weekend'\n",
    "    'custom_encoder__strategy': ['one_hot'], #, 'binary'\n",
    "    'randomForest__n_estimators': n_estimators,\n",
    "    'randomForest__max_depth': max_depth,\n",
    "    'randomForest__min_samples_split': min_samples_split,\n",
    "    'randomForest__ccp_alpha': ccp_alpha   \n",
    "}"
   ]
  },
  {
   "cell_type": "code",
   "execution_count": 55,
   "metadata": {},
   "outputs": [
    {
     "name": "stderr",
     "output_type": "stream",
     "text": [
      "c:\\Users\\anaso\\anaconda3\\lib\\site-packages\\sklearn\\model_selection\\_search.py:292: UserWarning: The total space of parameters 81 is smaller than n_iter=600. Running 81 iterations. For exhaustive searches, use GridSearchCV.\n",
      "  warnings.warn(\n"
     ]
    },
    {
     "name": "stdout",
     "output_type": "stream",
     "text": [
      "Best Score: 0.9424389430079224\n",
      "Best Parameters: {'randomForest__n_estimators': 500, 'randomForest__min_samples_split': 15, 'randomForest__max_depth': 20, 'randomForest__ccp_alpha': 1e-13, 'month_handler__strategy': 'month', 'day_of_the_week_handler__strategy': 'full', 'custom_encoder__strategy': 'one_hot'}\n"
     ]
    }
   ],
   "source": [
    "cv = StratifiedKFold(n_splits=3, shuffle=True)\n",
    "search = RandomizedSearchCV(pipeline, param_distributions=random_grid, n_jobs=-1, cv=cv, n_iter=600, scoring='f1_weighted')\n",
    "\n",
    "# Find optimal parameters\n",
    "search.fit(X_train, y_train)\n",
    "\n",
    "print(\"Best Score:\", search.best_score_)\n",
    "#print(\"Best Estimator:\", search.best_estimator_)\n",
    "print(\"Best Parameters:\", search.best_params_)"
   ]
  },
  {
   "attachments": {},
   "cell_type": "markdown",
   "metadata": {},
   "source": [
    "## Model Evaluation"
   ]
  },
  {
   "cell_type": "code",
   "execution_count": 56,
   "metadata": {},
   "outputs": [],
   "source": [
    "pipeline = Pipeline(steps=[\n",
    "    ('day_period_handler',\n",
    "     DayPeriodHandler()\n",
    "     ),\n",
    "    ('month_handler',\n",
    "     MonthHandler()\n",
    "     ),\n",
    "    ('day_of_the_week_handler',\n",
    "     DayoftheWeekHandler()\n",
    "     ),\n",
    "    ('column_dropper',\n",
    "     ColumnDropper(columns_to_drop=[\n",
    "    'date', \n",
    "    'hour',\n",
    "    'minute',\n",
    "    'second',\n",
    "    'noise_event_laeq_model_id',\n",
    "    #'noise_event_laeq_primary_detected_certainty'\n",
    "    ])\n",
    "     ),\n",
    "    ('custom_encoder',\n",
    "     CustomEncoder(\n",
    "        columns=['#object_id', 'day_period', 'month', 'weekday'])\n",
    "     ),\n",
    "    ('pca',\n",
    "     PCATransformer(\n",
    "        n_components=7,\n",
    "        columns=[\n",
    "            'lamax', 'laeq', 'lceq', 'lcpeak',\n",
    "            'lamax_shift_t-_1', 'laeq_shift_t-_1', 'lceq_shift_t-_1',\n",
    "            'lcpeak_shift_t-_1', 'lamax_shift_t-_2', 'laeq_shift_t-_2',\n",
    "            'lceq_shift_t-_2', 'lcpeak_shift_t-_2', 'lamax_shift_t-_3',\n",
    "            'laeq_shift_t-_3', 'lceq_shift_t-_3', 'lcpeak_shift_t-_3',\n",
    "            'lamax_shift_t-_4', 'laeq_shift_t-_4', 'lceq_shift_t-_4',\n",
    "            'lcpeak_shift_t-_4', 'lamax_shift_t-_5', 'laeq_shift_t-_5',\n",
    "            'lceq_shift_t-_5', 'lcpeak_shift_t-_5'\n",
    "        ])\n",
    "     ),\n",
    "     ('randomForest', RandomForestClassifier(random_state=42, class_weight='balanced', n_estimators=500, min_samples_split=15, max_depth=20, ccp_alpha=1e-13))\n",
    "])"
   ]
  },
  {
   "cell_type": "code",
   "execution_count": 57,
   "metadata": {},
   "outputs": [
    {
     "data": {
      "text/plain": [
       "Pipeline(steps=[('day_period_handler', DayPeriodHandler()),\n",
       "                ('month_handler', MonthHandler()),\n",
       "                ('day_of_the_week_handler', DayoftheWeekHandler()),\n",
       "                ('column_dropper',\n",
       "                 ColumnDropper(columns_to_drop=['date', 'hour', 'minute',\n",
       "                                                'second',\n",
       "                                                'noise_event_laeq_model_id'])),\n",
       "                ('custom_encoder',\n",
       "                 CustomEncoder(columns=['#object_id', 'day_period', 'month',\n",
       "                                        'weekday'])),\n",
       "                ('pca',\n",
       "                 PC...\n",
       "                                         'lceq_shift_t-_3', 'lcpeak_shift_t-_3',\n",
       "                                         'lamax_shift_t-_4', 'laeq_shift_t-_4',\n",
       "                                         'lceq_shift_t-_4', 'lcpeak_shift_t-_4',\n",
       "                                         'lamax_shift_t-_5', 'laeq_shift_t-_5',\n",
       "                                         'lceq_shift_t-_5',\n",
       "                                         'lcpeak_shift_t-_5'],\n",
       "                                n_components=7)),\n",
       "                ('randomForest',\n",
       "                 RandomForestClassifier(ccp_alpha=1e-13,\n",
       "                                        class_weight='balanced', max_depth=20,\n",
       "                                        min_samples_split=15, n_estimators=500,\n",
       "                                        random_state=42))])"
      ]
     },
     "execution_count": 57,
     "metadata": {},
     "output_type": "execute_result"
    }
   ],
   "source": [
    "pipeline.fit(X_train, y_train)"
   ]
  },
  {
   "cell_type": "code",
   "execution_count": 58,
   "metadata": {},
   "outputs": [],
   "source": [
    "y_pred = pipeline.predict(X_test)"
   ]
  },
  {
   "cell_type": "code",
   "execution_count": 59,
   "metadata": {},
   "outputs": [],
   "source": [
    "y_pred_proba = pipeline.predict_proba(X_test)"
   ]
  },
  {
   "cell_type": "code",
   "execution_count": 60,
   "metadata": {},
   "outputs": [
    {
     "name": "stdout",
     "output_type": "stream",
     "text": [
      "Accuracy: 0.9434613724643937\n",
      "Balanced Accuracy: 0.7649341486293209\n"
     ]
    }
   ],
   "source": [
    "print('Accuracy:', accuracy_score(y_test, y_pred))\n",
    "print('Balanced Accuracy:', balanced_accuracy_score(y_test, y_pred))"
   ]
  },
  {
   "cell_type": "code",
   "execution_count": 61,
   "metadata": {},
   "outputs": [
    {
     "data": {
      "text/plain": [
       "0.966181768098181"
      ]
     },
     "execution_count": 61,
     "metadata": {},
     "output_type": "execute_result"
    }
   ],
   "source": [
    "roc_auc_score(y_test, y_pred_proba, multi_class='ovo')"
   ]
  },
  {
   "cell_type": "code",
   "execution_count": 62,
   "metadata": {},
   "outputs": [],
   "source": [
    "cm = confusion_matrix(y_test, y_pred)\n",
    "\n",
    "# Define the class labels\n",
    "classes = list(le.classes_)\n",
    "\n",
    "cm_df = pd.DataFrame(cm,\n",
    "                     index = classes, \n",
    "                     columns = classes)"
   ]
  },
  {
   "cell_type": "code",
   "execution_count": 63,
   "metadata": {},
   "outputs": [
    {
     "data": {
      "image/png": "[encoded data removed]",
      "text/plain": [
       "<Figure size 800x600 with 2 Axes>"
      ]
     },
     "metadata": {},
     "output_type": "display_data"
    }
   ],
   "source": [
    "plt.figure(figsize=(8,6))\n",
    "ax = sns.heatmap(cm_df, annot=True, fmt='.0f')\n",
    "plt.title('Confusion Matrix')\n",
    "plt.ylabel('Actal Values')\n",
    "plt.xlabel('Predicted Values')\n",
    "\n",
    "plt.show()"
   ]
  },
  {
   "cell_type": "code",
   "execution_count": 64,
   "metadata": {},
   "outputs": [
    {
     "name": "stdout",
     "output_type": "stream",
     "text": [
      "                                precision    recall  f1-score   support\n",
      "\n",
      "        Human voice - Shouting       0.70      0.79      0.74      1671\n",
      "         Human voice - Singing       0.62      0.43      0.51       352\n",
      "                         Other       1.00      0.99      1.00      6224\n",
      "Transport road - Passenger car       0.97      0.97      0.97     14301\n",
      "        Transport road - Siren       0.70      0.65      0.67       622\n",
      "\n",
      "                      accuracy                           0.94     23170\n",
      "                     macro avg       0.80      0.76      0.78     23170\n",
      "                  weighted avg       0.94      0.94      0.94     23170\n",
      "\n"
     ]
    }
   ],
   "source": [
    "print(classification_report(y_test, y_pred, target_names=classes))"
   ]
  },
  {
   "attachments": {},
   "cell_type": "markdown",
   "metadata": {},
   "source": [
    "---\n",
    "# No certainty + balanced_accuracy"
   ]
  },
  {
   "cell_type": "code",
   "execution_count": 100,
   "metadata": {},
   "outputs": [],
   "source": [
    "pipeline = Pipeline(steps=[\n",
    "    ('day_period_handler',\n",
    "     DayPeriodHandler()\n",
    "     ),\n",
    "    ('month_handler',\n",
    "     MonthHandler()\n",
    "     ),\n",
    "    ('day_of_the_week_handler',\n",
    "     DayoftheWeekHandler()\n",
    "     ),\n",
    "    ('column_dropper',\n",
    "     ColumnDropper(columns_to_drop=[\n",
    "    'date', \n",
    "    'hour',\n",
    "    'minute',\n",
    "    'second',\n",
    "    'noise_event_laeq_model_id',\n",
    "    'noise_event_laeq_primary_detected_certainty'\n",
    "    ])\n",
    "     ),\n",
    "    ('custom_encoder',\n",
    "     CustomEncoder(\n",
    "        columns=['#object_id', 'day_period', 'month', 'weekday'])\n",
    "     ),\n",
    "    ('pca',\n",
    "     PCATransformer(\n",
    "        n_components=7,\n",
    "        columns=[\n",
    "            'lamax', 'laeq', 'lceq', 'lcpeak',\n",
    "            'lamax_shift_t-_1', 'laeq_shift_t-_1', 'lceq_shift_t-_1',\n",
    "            'lcpeak_shift_t-_1', 'lamax_shift_t-_2', 'laeq_shift_t-_2',\n",
    "            'lceq_shift_t-_2', 'lcpeak_shift_t-_2', 'lamax_shift_t-_3',\n",
    "            'laeq_shift_t-_3', 'lceq_shift_t-_3', 'lcpeak_shift_t-_3',\n",
    "            'lamax_shift_t-_4', 'laeq_shift_t-_4', 'lceq_shift_t-_4',\n",
    "            'lcpeak_shift_t-_4', 'lamax_shift_t-_5', 'laeq_shift_t-_5',\n",
    "            'lceq_shift_t-_5', 'lcpeak_shift_t-_5'\n",
    "        ])\n",
    "     ),\n",
    "     ('randomForest', RandomForestClassifier(random_state=42, class_weight='balanced', n_estimators=500, min_samples_split=20, max_depth=10, ccp_alpha=1e-5))\n",
    "])"
   ]
  },
  {
   "cell_type": "code",
   "execution_count": 101,
   "metadata": {},
   "outputs": [
    {
     "data": {
      "text/plain": [
       "0.617005061663432"
      ]
     },
     "execution_count": 101,
     "metadata": {},
     "output_type": "execute_result"
    }
   ],
   "source": [
    "cv = StratifiedKFold(n_splits=3, shuffle=True)\n",
    "scores3 = cross_val_score(pipeline, X_train, y_train, scoring='balanced_accuracy', cv=cv, error_score='raise', n_jobs=-1)\n",
    "scores3.mean()"
   ]
  },
  {
   "cell_type": "code",
   "execution_count": 102,
   "metadata": {},
   "outputs": [],
   "source": [
    "n_estimators = np.arange(400, 550, 50) # number of trees in the random forest\n",
    "max_depth = np.arange(10,18,3) # maximum number of levels allowed in each decision tree\n",
    "min_samples_split = np.arange(18,30,3) # minimum sample number to split a node\n",
    "ccp_alpha = np.array([1e-11, 1e-9, 1e-7])\n",
    "\n",
    "random_grid = {\n",
    "    'month_handler__strategy': ['month'], #'season'\n",
    "    'day_of_the_week_handler__strategy': ['full'], #'weekend'\n",
    "    'custom_encoder__strategy': ['one_hot'], #, 'binary'\n",
    "    'randomForest__n_estimators': n_estimators,\n",
    "    'randomForest__max_depth': max_depth,\n",
    "    'randomForest__min_samples_split': min_samples_split,\n",
    "    'randomForest__ccp_alpha': ccp_alpha   \n",
    "}"
   ]
  },
  {
   "cell_type": "code",
   "execution_count": 104,
   "metadata": {},
   "outputs": [
    {
     "name": "stdout",
     "output_type": "stream",
     "text": [
      "Best Score: 0.620470692749183\n",
      "Best Parameters: {'randomForest__n_estimators': 500, 'randomForest__min_samples_split': 27, 'randomForest__max_depth': 10, 'randomForest__ccp_alpha': 1e-11, 'month_handler__strategy': 'month', 'day_of_the_week_handler__strategy': 'full', 'custom_encoder__strategy': 'one_hot'}\n"
     ]
    }
   ],
   "source": [
    "cv = StratifiedKFold(n_splits=3, shuffle=True)\n",
    "search = RandomizedSearchCV(pipeline, param_distributions=random_grid, n_jobs=-1, cv=cv, n_iter=108, scoring='balanced_accuracy')\n",
    "\n",
    "# Find optimal parameters\n",
    "search.fit(X_train, y_train)\n",
    "\n",
    "print(\"Best Score:\", search.best_score_)\n",
    "#print(\"Best Estimator:\", search.best_estimator_)\n",
    "print(\"Best Parameters:\", search.best_params_)"
   ]
  },
  {
   "attachments": {},
   "cell_type": "markdown",
   "metadata": {},
   "source": [
    "## Model Evaluation"
   ]
  },
  {
   "cell_type": "code",
   "execution_count": 105,
   "metadata": {},
   "outputs": [],
   "source": [
    "pipeline = Pipeline(steps=[\n",
    "    ('day_period_handler',\n",
    "     DayPeriodHandler()\n",
    "     ),\n",
    "    ('month_handler',\n",
    "     MonthHandler()\n",
    "     ),\n",
    "    ('day_of_the_week_handler',\n",
    "     DayoftheWeekHandler()\n",
    "     ),\n",
    "    ('column_dropper',\n",
    "     ColumnDropper(columns_to_drop=[\n",
    "    'date', \n",
    "    'hour',\n",
    "    'minute',\n",
    "    'second',\n",
    "    'noise_event_laeq_model_id',\n",
    "    'noise_event_laeq_primary_detected_certainty'\n",
    "    ])\n",
    "     ),\n",
    "    ('custom_encoder',\n",
    "     CustomEncoder(\n",
    "        columns=['#object_id', 'day_period', 'month', 'weekday'])\n",
    "     ),\n",
    "    ('pca',\n",
    "     PCATransformer(\n",
    "        n_components=7,\n",
    "        columns=[\n",
    "            'lamax', 'laeq', 'lceq', 'lcpeak',\n",
    "            'lamax_shift_t-_1', 'laeq_shift_t-_1', 'lceq_shift_t-_1',\n",
    "            'lcpeak_shift_t-_1', 'lamax_shift_t-_2', 'laeq_shift_t-_2',\n",
    "            'lceq_shift_t-_2', 'lcpeak_shift_t-_2', 'lamax_shift_t-_3',\n",
    "            'laeq_shift_t-_3', 'lceq_shift_t-_3', 'lcpeak_shift_t-_3',\n",
    "            'lamax_shift_t-_4', 'laeq_shift_t-_4', 'lceq_shift_t-_4',\n",
    "            'lcpeak_shift_t-_4', 'lamax_shift_t-_5', 'laeq_shift_t-_5',\n",
    "            'lceq_shift_t-_5', 'lcpeak_shift_t-_5'\n",
    "        ])\n",
    "     ),\n",
    "     ('randomForest', RandomForestClassifier(random_state=42, class_weight='balanced', n_estimators=500, min_samples_split=27, max_depth=10, ccp_alpha=1e-11))\n",
    "])"
   ]
  },
  {
   "cell_type": "code",
   "execution_count": 106,
   "metadata": {},
   "outputs": [
    {
     "data": {
      "text/plain": [
       "Pipeline(steps=[('day_period_handler', DayPeriodHandler()),\n",
       "                ('month_handler', MonthHandler()),\n",
       "                ('day_of_the_week_handler', DayoftheWeekHandler()),\n",
       "                ('column_dropper',\n",
       "                 ColumnDropper(columns_to_drop=['date', 'hour', 'minute',\n",
       "                                                'second',\n",
       "                                                'noise_event_laeq_model_id',\n",
       "                                                'noise_event_laeq_primary_detected_certainty'])),\n",
       "                ('custom_encoder',\n",
       "                 CustomEncoder(columns=['#object_i...\n",
       "                                         'lceq_shift_t-_3', 'lcpeak_shift_t-_3',\n",
       "                                         'lamax_shift_t-_4', 'laeq_shift_t-_4',\n",
       "                                         'lceq_shift_t-_4', 'lcpeak_shift_t-_4',\n",
       "                                         'lamax_shift_t-_5', 'laeq_shift_t-_5',\n",
       "                                         'lceq_shift_t-_5',\n",
       "                                         'lcpeak_shift_t-_5'],\n",
       "                                n_components=7)),\n",
       "                ('randomForest',\n",
       "                 RandomForestClassifier(ccp_alpha=1e-11,\n",
       "                                        class_weight='balanced', max_depth=10,\n",
       "                                        min_samples_split=27, n_estimators=500,\n",
       "                                        random_state=42))])"
      ]
     },
     "execution_count": 106,
     "metadata": {},
     "output_type": "execute_result"
    }
   ],
   "source": [
    "pipeline.fit(X_train, y_train)"
   ]
  },
  {
   "cell_type": "code",
   "execution_count": 107,
   "metadata": {},
   "outputs": [],
   "source": [
    "y_pred = pipeline.predict(X_test)"
   ]
  },
  {
   "cell_type": "code",
   "execution_count": 108,
   "metadata": {},
   "outputs": [],
   "source": [
    "y_pred_proba = pipeline.predict_proba(X_test)"
   ]
  },
  {
   "cell_type": "code",
   "execution_count": 109,
   "metadata": {},
   "outputs": [
    {
     "name": "stdout",
     "output_type": "stream",
     "text": [
      "Accuracy: 0.6600776866637894\n",
      "Balanced Accuracy: 0.622953597716341\n"
     ]
    }
   ],
   "source": [
    "print('Accuracy:', accuracy_score(y_test, y_pred))\n",
    "print('Balanced Accuracy:', balanced_accuracy_score(y_test, y_pred))"
   ]
  },
  {
   "cell_type": "code",
   "execution_count": 110,
   "metadata": {},
   "outputs": [
    {
     "data": {
      "text/plain": [
       "0.8812895254876508"
      ]
     },
     "execution_count": 110,
     "metadata": {},
     "output_type": "execute_result"
    }
   ],
   "source": [
    "roc_auc_score(y_test, y_pred_proba, multi_class='ovo')"
   ]
  },
  {
   "cell_type": "code",
   "execution_count": 111,
   "metadata": {},
   "outputs": [],
   "source": [
    "cm = confusion_matrix(y_test, y_pred)\n",
    "\n",
    "# Define the class labels\n",
    "classes = list(le.classes_)\n",
    "\n",
    "cm_df = pd.DataFrame(cm,\n",
    "                     index = classes, \n",
    "                     columns = classes)"
   ]
  },
  {
   "cell_type": "code",
   "execution_count": 112,
   "metadata": {},
   "outputs": [
    {
     "data": {
      "image/png": "[encoded data removed]",
      "text/plain": [
       "<Figure size 800x600 with 2 Axes>"
      ]
     },
     "metadata": {},
     "output_type": "display_data"
    }
   ],
   "source": [
    "plt.figure(figsize=(8,6))\n",
    "ax = sns.heatmap(cm_df, annot=True, fmt='.0f')\n",
    "plt.title('Confusion Matrix')\n",
    "plt.ylabel('Actal Values')\n",
    "plt.xlabel('Predicted Values')\n",
    "\n",
    "plt.show()"
   ]
  },
  {
   "cell_type": "code",
   "execution_count": 113,
   "metadata": {},
   "outputs": [
    {
     "name": "stdout",
     "output_type": "stream",
     "text": [
      "                                precision    recall  f1-score   support\n",
      "\n",
      "        Human voice - Shouting       0.39      0.70      0.50      1671\n",
      "         Human voice - Singing       0.13      0.55      0.21       352\n",
      "                         Other       0.52      0.32      0.40      6224\n",
      "Transport road - Passenger car       0.85      0.80      0.83     14301\n",
      "        Transport road - Siren       0.35      0.74      0.48       622\n",
      "\n",
      "                      accuracy                           0.66     23170\n",
      "                     macro avg       0.45      0.62      0.48     23170\n",
      "                  weighted avg       0.70      0.66      0.67     23170\n",
      "\n"
     ]
    }
   ],
   "source": [
    "print(classification_report(y_test, y_pred, target_names=classes))"
   ]
  },
  {
   "attachments": {},
   "cell_type": "markdown",
   "metadata": {},
   "source": [
    "---\n",
    "# No certainty + f1_weighted\n",
    "\n",
    "### Still need to test!"
   ]
  },
  {
   "cell_type": "code",
   "execution_count": null,
   "metadata": {},
   "outputs": [],
   "source": [
    "pipeline = Pipeline(steps=[\n",
    "    ('day_period_handler',\n",
    "     DayPeriodHandler()\n",
    "     ),\n",
    "    ('month_handler',\n",
    "     MonthHandler()\n",
    "     ),\n",
    "    ('day_of_the_week_handler',\n",
    "     DayoftheWeekHandler()\n",
    "     ),\n",
    "    ('column_dropper',\n",
    "     ColumnDropper(columns_to_drop=[\n",
    "    'date', \n",
    "    'hour',\n",
    "    'minute',\n",
    "    'second',\n",
    "    'noise_event_laeq_model_id',\n",
    "    'noise_event_laeq_primary_detected_certainty'\n",
    "    ])\n",
    "     ),\n",
    "    ('custom_encoder',\n",
    "     CustomEncoder(\n",
    "        columns=['#object_id', 'day_period', 'month', 'weekday'])\n",
    "     ),\n",
    "    ('pca',\n",
    "     PCATransformer(\n",
    "        n_components=7,\n",
    "        columns=[\n",
    "            'lamax', 'laeq', 'lceq', 'lcpeak',\n",
    "            'lamax_shift_t-_1', 'laeq_shift_t-_1', 'lceq_shift_t-_1',\n",
    "            'lcpeak_shift_t-_1', 'lamax_shift_t-_2', 'laeq_shift_t-_2',\n",
    "            'lceq_shift_t-_2', 'lcpeak_shift_t-_2', 'lamax_shift_t-_3',\n",
    "            'laeq_shift_t-_3', 'lceq_shift_t-_3', 'lcpeak_shift_t-_3',\n",
    "            'lamax_shift_t-_4', 'laeq_shift_t-_4', 'lceq_shift_t-_4',\n",
    "            'lcpeak_shift_t-_4', 'lamax_shift_t-_5', 'laeq_shift_t-_5',\n",
    "            'lceq_shift_t-_5', 'lcpeak_shift_t-_5'\n",
    "        ])\n",
    "     ),\n",
    "     ('randomForest', RandomForestClassifier(random_state=42, class_weight='balanced', n_estimators=500, min_samples_split=20, max_depth=10, ccp_alpha=1e-5))\n",
    "])"
   ]
  },
  {
   "cell_type": "code",
   "execution_count": null,
   "metadata": {},
   "outputs": [],
   "source": [
    "cv = StratifiedKFold(n_splits=3, shuffle=True)\n",
    "scores3 = cross_val_score(pipeline, X_train, y_train, scoring='f1_weighted', cv=cv, error_score='raise', n_jobs=-1)\n",
    "scores3.mean()"
   ]
  },
  {
   "cell_type": "code",
   "execution_count": null,
   "metadata": {},
   "outputs": [],
   "source": [
    "n_estimators = np.arange(400, 550, 50) # number of trees in the random forest\n",
    "max_depth = np.arange(10,18,3) # maximum number of levels allowed in each decision tree\n",
    "min_samples_split = np.arange(18,30,3) # minimum sample number to split a node\n",
    "ccp_alpha = np.array([1e-11, 1e-9, 1e-7])\n",
    "\n",
    "random_grid = {\n",
    "    'month_handler__strategy': ['month'], #'season'\n",
    "    'day_of_the_week_handler__strategy': ['full'], #'weekend'\n",
    "    'custom_encoder__strategy': ['one_hot'], #, 'binary'\n",
    "    'randomForest__n_estimators': n_estimators,\n",
    "    'randomForest__max_depth': max_depth,\n",
    "    'randomForest__min_samples_split': min_samples_split,\n",
    "    'randomForest__ccp_alpha': ccp_alpha   \n",
    "}"
   ]
  },
  {
   "cell_type": "code",
   "execution_count": null,
   "metadata": {},
   "outputs": [],
   "source": [
    "cv = StratifiedKFold(n_splits=3, shuffle=True)\n",
    "search = RandomizedSearchCV(pipeline, param_distributions=random_grid, n_jobs=-1, cv=cv, n_iter=108, scoring='f1_weighted')\n",
    "\n",
    "# Find optimal parameters\n",
    "search.fit(X_train, y_train)\n",
    "\n",
    "print(\"Best Score:\", search.best_score_)\n",
    "#print(\"Best Estimator:\", search.best_estimator_)\n",
    "print(\"Best Parameters:\", search.best_params_)"
   ]
  },
  {
   "attachments": {},
   "cell_type": "markdown",
   "metadata": {},
   "source": [
    "## Model Evaluation"
   ]
  },
  {
   "cell_type": "code",
   "execution_count": null,
   "metadata": {},
   "outputs": [],
   "source": [
    "pipeline = Pipeline(steps=[\n",
    "    ('day_period_handler',\n",
    "     DayPeriodHandler()\n",
    "     ),\n",
    "    ('month_handler',\n",
    "     MonthHandler()\n",
    "     ),\n",
    "    ('day_of_the_week_handler',\n",
    "     DayoftheWeekHandler()\n",
    "     ),\n",
    "    ('column_dropper',\n",
    "     ColumnDropper(columns_to_drop=[\n",
    "    'date', \n",
    "    'hour',\n",
    "    'minute',\n",
    "    'second',\n",
    "    'noise_event_laeq_model_id',\n",
    "    'noise_event_laeq_primary_detected_certainty'\n",
    "    ])\n",
    "     ),\n",
    "    ('custom_encoder',\n",
    "     CustomEncoder(\n",
    "        columns=['#object_id', 'day_period', 'month', 'weekday'])\n",
    "     ),\n",
    "    ('pca',\n",
    "     PCATransformer(\n",
    "        n_components=7,\n",
    "        columns=[\n",
    "            'lamax', 'laeq', 'lceq', 'lcpeak',\n",
    "            'lamax_shift_t-_1', 'laeq_shift_t-_1', 'lceq_shift_t-_1',\n",
    "            'lcpeak_shift_t-_1', 'lamax_shift_t-_2', 'laeq_shift_t-_2',\n",
    "            'lceq_shift_t-_2', 'lcpeak_shift_t-_2', 'lamax_shift_t-_3',\n",
    "            'laeq_shift_t-_3', 'lceq_shift_t-_3', 'lcpeak_shift_t-_3',\n",
    "            'lamax_shift_t-_4', 'laeq_shift_t-_4', 'lceq_shift_t-_4',\n",
    "            'lcpeak_shift_t-_4', 'lamax_shift_t-_5', 'laeq_shift_t-_5',\n",
    "            'lceq_shift_t-_5', 'lcpeak_shift_t-_5'\n",
    "        ])\n",
    "     ),\n",
    "     ('randomForest', RandomForestClassifier(random_state=42, class_weight='balanced', n_estimators=300, min_samples_split=60, max_depth=15, ccp_alpha=1e-7))\n",
    "])"
   ]
  },
  {
   "cell_type": "code",
   "execution_count": null,
   "metadata": {},
   "outputs": [],
   "source": [
    "pipeline.fit(X_train, y_train)"
   ]
  },
  {
   "cell_type": "code",
   "execution_count": null,
   "metadata": {},
   "outputs": [],
   "source": [
    "y_pred = pipeline.predict(X_test)"
   ]
  },
  {
   "cell_type": "code",
   "execution_count": null,
   "metadata": {},
   "outputs": [],
   "source": [
    "y_pred_proba = pipeline.predict_proba(X_test)"
   ]
  },
  {
   "cell_type": "code",
   "execution_count": null,
   "metadata": {},
   "outputs": [],
   "source": [
    "print('Accuracy:', accuracy_score(y_test, y_pred))\n",
    "print('Balanced Accuracy:', balanced_accuracy_score(y_test, y_pred))"
   ]
  },
  {
   "cell_type": "code",
   "execution_count": null,
   "metadata": {},
   "outputs": [],
   "source": [
    "roc_auc_score(y_test, y_pred_proba, multi_class='ovo')"
   ]
  },
  {
   "cell_type": "code",
   "execution_count": null,
   "metadata": {},
   "outputs": [],
   "source": [
    "cm = confusion_matrix(y_test, y_pred)\n",
    "\n",
    "# Define the class labels\n",
    "classes = list(le.classes_)\n",
    "\n",
    "cm_df = pd.DataFrame(cm,\n",
    "                     index = classes, \n",
    "                     columns = classes)"
   ]
  },
  {
   "cell_type": "code",
   "execution_count": null,
   "metadata": {},
   "outputs": [],
   "source": [
    "plt.figure(figsize=(8,6))\n",
    "ax = sns.heatmap(cm_df, annot=True, fmt='.0f')\n",
    "plt.title('Confusion Matrix')\n",
    "plt.ylabel('Actal Values')\n",
    "plt.xlabel('Predicted Values')\n",
    "\n",
    "plt.show()"
   ]
  },
  {
   "cell_type": "code",
   "execution_count": null,
   "metadata": {},
   "outputs": [],
   "source": [
    "print(classification_report(y_test, y_pred, target_names=classes))"
   ]
  }
 ],
 "metadata": {
  "kernelspec": {
   "display_name": "base",
   "language": "python",
   "name": "python3"
  },
  "language_info": {
   "codemirror_mode": {
    "name": "ipython",
    "version": 3
   },
   "file_extension": ".py",
   "mimetype": "text/x-python",
   "name": "python",
   "nbconvert_exporter": "python",
   "pygments_lexer": "ipython3",
   "version": "3.9.13"
  },
  "orig_nbformat": 4
 },
 "nbformat": 4,
 "nbformat_minor": 2
}
